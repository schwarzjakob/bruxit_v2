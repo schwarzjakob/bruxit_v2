{
  "cells": [
    {
      "cell_type": "code",
      "execution_count": 1,
      "metadata": {
        "colab": {
          "base_uri": "https://localhost:8080/"
        },
        "id": "KTS-cHm9Cg6K",
        "outputId": "6043b820-dfdd-431f-e7c9-15c870c2b82b"
      },
      "outputs": [
        {
          "name": "stdout",
          "output_type": "stream",
          "text": [
            "Requirement already satisfied: pandas in c:\\python311\\lib\\site-packages (2.2.2)\n",
            "Requirement already satisfied: numpy>=1.23.2 in c:\\python311\\lib\\site-packages (from pandas) (1.25.0)\n",
            "Requirement already satisfied: python-dateutil>=2.8.2 in c:\\users\\eleon\\appdata\\roaming\\python\\python311\\site-packages (from pandas) (2.9.0.post0)\n",
            "Requirement already satisfied: pytz>=2020.1 in c:\\python311\\lib\\site-packages (from pandas) (2024.1)\n",
            "Requirement already satisfied: tzdata>=2022.7 in c:\\python311\\lib\\site-packages (from pandas) (2024.1)\n",
            "Requirement already satisfied: six>=1.5 in c:\\users\\eleon\\appdata\\roaming\\python\\python311\\site-packages (from python-dateutil>=2.8.2->pandas) (1.16.0)\n"
          ]
        },
        {
          "name": "stderr",
          "output_type": "stream",
          "text": [
            "\n",
            "[notice] A new release of pip is available: 23.1.2 -> 24.2\n",
            "[notice] To update, run: python.exe -m pip install --upgrade pip\n"
          ]
        },
        {
          "name": "stdout",
          "output_type": "stream",
          "text": [
            "Requirement already satisfied: xgboost in c:\\python311\\lib\\site-packages (2.1.0)\n",
            "Requirement already satisfied: numpy in c:\\python311\\lib\\site-packages (from xgboost) (1.25.0)\n",
            "Requirement already satisfied: scipy in c:\\python311\\lib\\site-packages (from xgboost) (1.14.0)\n"
          ]
        },
        {
          "name": "stderr",
          "output_type": "stream",
          "text": [
            "\n",
            "[notice] A new release of pip is available: 23.1.2 -> 24.2\n",
            "[notice] To update, run: python.exe -m pip install --upgrade pip\n"
          ]
        },
        {
          "name": "stdout",
          "output_type": "stream",
          "text": [
            "Requirement already satisfied: neurokit2 in c:\\python311\\lib\\site-packages (0.2.9)\n",
            "Requirement already satisfied: requests in c:\\python311\\lib\\site-packages (from neurokit2) (2.32.3)\n",
            "Requirement already satisfied: numpy in c:\\python311\\lib\\site-packages (from neurokit2) (1.25.0)\n",
            "Requirement already satisfied: pandas in c:\\python311\\lib\\site-packages (from neurokit2) (2.2.2)\n",
            "Requirement already satisfied: scipy in c:\\python311\\lib\\site-packages (from neurokit2) (1.14.0)\n",
            "Requirement already satisfied: scikit-learn>=1.0.0 in c:\\python311\\lib\\site-packages (from neurokit2) (1.5.1)\n",
            "Requirement already satisfied: matplotlib in c:\\python311\\lib\\site-packages (from neurokit2) (3.9.1)\n",
            "Requirement already satisfied: joblib>=1.2.0 in c:\\python311\\lib\\site-packages (from scikit-learn>=1.0.0->neurokit2) (1.4.2)\n",
            "Requirement already satisfied: threadpoolctl>=3.1.0 in c:\\python311\\lib\\site-packages (from scikit-learn>=1.0.0->neurokit2) (3.5.0)\n",
            "Requirement already satisfied: contourpy>=1.0.1 in c:\\python311\\lib\\site-packages (from matplotlib->neurokit2) (1.2.1)\n",
            "Requirement already satisfied: cycler>=0.10 in c:\\python311\\lib\\site-packages (from matplotlib->neurokit2) (0.12.1)\n",
            "Requirement already satisfied: fonttools>=4.22.0 in c:\\python311\\lib\\site-packages (from matplotlib->neurokit2) (4.53.1)\n",
            "Requirement already satisfied: kiwisolver>=1.3.1 in c:\\python311\\lib\\site-packages (from matplotlib->neurokit2) (1.4.5)\n",
            "Requirement already satisfied: packaging>=20.0 in c:\\users\\eleon\\appdata\\roaming\\python\\python311\\site-packages (from matplotlib->neurokit2) (24.1)\n",
            "Requirement already satisfied: pillow>=8 in c:\\python311\\lib\\site-packages (from matplotlib->neurokit2) (10.4.0)\n",
            "Requirement already satisfied: pyparsing>=2.3.1 in c:\\python311\\lib\\site-packages (from matplotlib->neurokit2) (3.1.2)\n",
            "Requirement already satisfied: python-dateutil>=2.7 in c:\\users\\eleon\\appdata\\roaming\\python\\python311\\site-packages (from matplotlib->neurokit2) (2.9.0.post0)\n",
            "Requirement already satisfied: pytz>=2020.1 in c:\\python311\\lib\\site-packages (from pandas->neurokit2) (2024.1)\n",
            "Requirement already satisfied: tzdata>=2022.7 in c:\\python311\\lib\\site-packages (from pandas->neurokit2) (2024.1)\n",
            "Requirement already satisfied: charset-normalizer<4,>=2 in c:\\python311\\lib\\site-packages (from requests->neurokit2) (3.3.2)\n",
            "Requirement already satisfied: idna<4,>=2.5 in c:\\python311\\lib\\site-packages (from requests->neurokit2) (3.7)\n",
            "Requirement already satisfied: urllib3<3,>=1.21.1 in c:\\python311\\lib\\site-packages (from requests->neurokit2) (2.2.2)\n",
            "Requirement already satisfied: certifi>=2017.4.17 in c:\\python311\\lib\\site-packages (from requests->neurokit2) (2024.7.4)\n",
            "Requirement already satisfied: six>=1.5 in c:\\users\\eleon\\appdata\\roaming\\python\\python311\\site-packages (from python-dateutil>=2.7->matplotlib->neurokit2) (1.16.0)\n"
          ]
        },
        {
          "name": "stderr",
          "output_type": "stream",
          "text": [
            "\n",
            "[notice] A new release of pip is available: 23.1.2 -> 24.2\n",
            "[notice] To update, run: python.exe -m pip install --upgrade pip\n"
          ]
        },
        {
          "name": "stdout",
          "output_type": "stream",
          "text": [
            "Requirement already satisfied: polars in c:\\python311\\lib\\site-packages (1.3.0)\n"
          ]
        },
        {
          "name": "stderr",
          "output_type": "stream",
          "text": [
            "\n",
            "[notice] A new release of pip is available: 23.1.2 -> 24.2\n",
            "[notice] To update, run: python.exe -m pip install --upgrade pip\n"
          ]
        },
        {
          "name": "stdout",
          "output_type": "stream",
          "text": [
            "Requirement already satisfied: scikit-learn in c:\\python311\\lib\\site-packages (1.5.1)\n",
            "Requirement already satisfied: numpy>=1.19.5 in c:\\python311\\lib\\site-packages (from scikit-learn) (1.25.0)\n",
            "Requirement already satisfied: scipy>=1.6.0 in c:\\python311\\lib\\site-packages (from scikit-learn) (1.14.0)\n",
            "Requirement already satisfied: joblib>=1.2.0 in c:\\python311\\lib\\site-packages (from scikit-learn) (1.4.2)\n",
            "Requirement already satisfied: threadpoolctl>=3.1.0 in c:\\python311\\lib\\site-packages (from scikit-learn) (3.5.0)\n"
          ]
        },
        {
          "name": "stderr",
          "output_type": "stream",
          "text": [
            "\n",
            "[notice] A new release of pip is available: 23.1.2 -> 24.2\n",
            "[notice] To update, run: python.exe -m pip install --upgrade pip\n"
          ]
        }
      ],
      "source": [
        "!pip install pandas\n",
        "!pip install xgboost\n",
        "!pip install neurokit2\n",
        "!pip install polars\n",
        "!pip install -U scikit-learn"
      ]
    },
    {
      "cell_type": "code",
      "execution_count": 2,
      "metadata": {
        "id": "EgJMhsLURP0g"
      },
      "outputs": [],
      "source": [
        "import numpy as np\n",
        "import pandas as pd\n",
        "import xgboost as xgb\n",
        "import neurokit2 as nk\n",
        "import polars as pl\n",
        "from sklearn.metrics import (accuracy_score, confusion_matrix, f1_score,\n",
        "                             make_scorer, precision_score, recall_score)\n",
        "from sklearn.model_selection import train_test_split\n",
        "from sklearn.preprocessing import StandardScaler\n",
        "from sklearn.tree import DecisionTreeClassifier as DTC\n",
        "import os\n",
        "import statistics\n"
      ]
    },
    {
      "cell_type": "code",
      "execution_count": 3,
      "metadata": {
        "colab": {
          "base_uri": "https://localhost:8080/"
        },
        "id": "L53vFNxFRS2b",
        "outputId": "cc4bf8b1-322c-4250-e403-f8a6df7287c0"
      },
      "outputs": [
        {
          "name": "stdout",
          "output_type": "stream",
          "text": [
            "predict_events\n"
          ]
        }
      ],
      "source": [
        "print(\"predict_events\")\n",
        "# Define sampling rates\n",
        "original_sampling = 2000\n",
        "selected_sampling = 1000\n",
        "\n",
        "# Open dataset\n",
        "data = pl.read_csv('C:/Users/eleon/Desktop/SDAP/backend/src/data/p2_wk1-2/0204451eFnorm.csv', columns=['MR', 'ML'])\n",
        "loc = pl.read_csv('C:/Users/eleon/Desktop/SDAP/backend/src/data/p2_wk1-2/0204451elocation_Bites.csv')\n",
        "\n",
        "# Get number of sleep cycles (in this case 6)\n",
        "cycle_num = int(np.ceil(data.shape[0] / original_sampling / 90 / 60))\n",
        "\n",
        "# Selected 5 min intervals in the sleep stage detection phase\n",
        "selected = [{\"start_id\": 600000, \"end_id\": 1200000},\n",
        "            {\"start_id\": 12000000, \"end_id\": 12600000},\n",
        "            {\"start_id\": 12600000, \"end_id\": 13200000},\n",
        "            {\"start_id\": 13800000, \"end_id\": 14400000},\n",
        "            {\"start_id\": 19800000, \"end_id\": 20400000},\n",
        "            {\"start_id\": 22800000, \"end_id\": 23400000},\n",
        "            {\"start_id\": 24000000, \"end_id\": 24600000},\n",
        "            {\"start_id\": 36600000, \"end_id\": 37200000},\n",
        "            {\"start_id\": 40800000, \"end_id\": 41400000}]\n",
        "\n"
      ]
    },
    {
      "cell_type": "markdown",
      "metadata": {
        "id": "uMJDRdlmnMts"
      },
      "source": [
        "# GENERATE MODEL"
      ]
    },
    {
      "cell_type": "code",
      "execution_count": 4,
      "metadata": {},
      "outputs": [
        {
          "data": {
            "text/html": [
              "<div><style>\n",
              ".dataframe > thead > tr,\n",
              ".dataframe > tbody > tr {\n",
              "  text-align: right;\n",
              "  white-space: pre-wrap;\n",
              "}\n",
              "</style>\n",
              "<small>shape: (3, 4)</small><table border=\"1\" class=\"dataframe\"><thead><tr><th>Location Begin</th><th>Location end</th><th>Duration[s]</th><th></th></tr><tr><td>i64</td><td>i64</td><td>f64</td><td>str</td></tr></thead><tbody><tr><td>30132</td><td>34875</td><td>2.3715</td><td>null</td></tr><tr><td>52669</td><td>56947</td><td>2.139</td><td>null</td></tr><tr><td>75516</td><td>79453</td><td>1.9685</td><td>null</td></tr></tbody></table></div>"
            ],
            "text/plain": [
              "shape: (3, 4)\n",
              "┌────────────────┬──────────────┬─────────────┬──────┐\n",
              "│ Location Begin ┆ Location end ┆ Duration[s] ┆      │\n",
              "│ ---            ┆ ---          ┆ ---         ┆ ---  │\n",
              "│ i64            ┆ i64          ┆ f64         ┆ str  │\n",
              "╞════════════════╪══════════════╪═════════════╪══════╡\n",
              "│ 30132          ┆ 34875        ┆ 2.3715      ┆ null │\n",
              "│ 52669          ┆ 56947        ┆ 2.139       ┆ null │\n",
              "│ 75516          ┆ 79453        ┆ 1.9685      ┆ null │\n",
              "└────────────────┴──────────────┴─────────────┴──────┘"
            ]
          },
          "execution_count": 4,
          "metadata": {},
          "output_type": "execute_result"
        }
      ],
      "source": [
        "loc"
      ]
    },
    {
      "cell_type": "code",
      "execution_count": 47,
      "metadata": {},
      "outputs": [
        {
          "data": {
            "text/plain": [
              "polars.dataframe.frame.DataFrame"
            ]
          },
          "execution_count": 47,
          "metadata": {},
          "output_type": "execute_result"
        }
      ],
      "source": [
        "type(data[30132:34875])"
      ]
    },
    {
      "cell_type": "code",
      "execution_count": 66,
      "metadata": {},
      "outputs": [
        {
          "name": "stdout",
          "output_type": "stream",
          "text": [
            "30132\n",
            "52669\n",
            "75516\n"
          ]
        }
      ],
      "source": [
        "for row in loc.iter_rows():\n",
        "    print(row[0])"
      ]
    },
    {
      "cell_type": "code",
      "execution_count": 5,
      "metadata": {},
      "outputs": [],
      "source": [
        "# Define Maximum Volontary Contraction\n",
        "mvc = 0\n",
        "for row in loc.iter_rows():\n",
        "    begin_contraction, end_contraction = row[0], row[1]\n",
        "\n",
        "    bite_data = data[begin_contraction:end_contraction]\n",
        "\n",
        "    max_in_bite = bite_data.max()\n",
        "\n",
        "\n",
        "    # TODO: check if average of ML and MR max row is okay\n",
        "    max_in_bite_avg = (max_in_bite['MR'][0] + max_in_bite['ML'][0]) / 2\n",
        "\n",
        "    if float(max_in_bite_avg) > float(mvc):\n",
        "        mvc = max_in_bite_avg\n"
      ]
    },
    {
      "cell_type": "code",
      "execution_count": 6,
      "metadata": {},
      "outputs": [
        {
          "data": {
            "text/plain": [
              "13.348"
            ]
          },
          "execution_count": 6,
          "metadata": {},
          "output_type": "execute_result"
        }
      ],
      "source": [
        "mvc "
      ]
    },
    {
      "cell_type": "markdown",
      "metadata": {},
      "source": [
        "# ELEONORA CODE"
      ]
    },
    {
      "cell_type": "code",
      "execution_count": 15,
      "metadata": {},
      "outputs": [],
      "source": [
        "# Mark as 1s data points that reach a certain threshold, otherwise as 0s\n",
        "\n",
        "bites = (data.select(((pl.col('MR') + pl.col('ML')) / 2) >= 0.1*mvc).to_numpy().astype(int)).flatten()"
      ]
    },
    {
      "cell_type": "code",
      "execution_count": 20,
      "metadata": {},
      "outputs": [
        {
          "data": {
            "text/plain": [
              "{0: 50882690, 1: 1642106}"
            ]
          },
          "execution_count": 20,
          "metadata": {},
          "output_type": "execute_result"
        }
      ],
      "source": [
        "unique, counts = np.unique(bites, return_counts=True)\n",
        "dict(zip(unique, counts))"
      ]
    },
    {
      "cell_type": "markdown",
      "metadata": {},
      "source": [
        "# YIFAN CODE"
      ]
    },
    {
      "cell_type": "markdown",
      "metadata": {},
      "source": [
        "## Ripartire da qui a riscrivere codice"
      ]
    },
    {
      "cell_type": "code",
      "execution_count": 4,
      "metadata": {
        "colab": {
          "base_uri": "https://localhost:8080/",
          "height": 140
        },
        "id": "sGfm7ALwnJse",
        "outputId": "ab851ba5-e910-45cd-f2ad-67590eb8e8a0"
      },
      "outputs": [
        {
          "name": "stdout",
          "output_type": "stream",
          "text": [
            "generate_model\n",
            "label bites\n",
            "add bites\n",
            "fit model\n",
            "save model\n"
          ]
        },
        {
          "data": {
            "text/plain": [
              "'\\n# Events predictions\\nlabels = predict_events(DATABASE, model, patient_id, week, night_id, recorder)\\n\\n# What happens if no predictions are there?\\n# TODO: check code: is this only on first time?\\nif (not labels) or (len(labels) < 1):\\n    with sql.connect(DATABASE) as con:\\n        cur = con.cursor()\\n        params = (patient_id)\\n        query = \"DELETE FROM models WHERE patient_id=?\"\\n        cur.execute(query, params)\\n        # cur.execute(f\"DELETE FROM models WHERE patient_id={patient_id}\")\\n        if gen_model:\\n            cur.execute(f\"DELETE FROM models WHERE patient_id=-1\")\\n'"
            ]
          },
          "execution_count": 4,
          "metadata": {},
          "output_type": "execute_result"
        }
      ],
      "source": [
        "print(\"generate_model\")\n",
        "\n",
        "range_min = 0\n",
        "\n",
        "# Last location end of the test biting\n",
        "range_max = int(float(loc[2,1]))\n",
        "\n",
        "\"\"\"\n",
        "# Create array of zeros of the size of the dataset\n",
        "bites = np.zeros(data.shape[0], dtype=int)\n",
        "print(\"label bites\")\n",
        "\n",
        "# Add ones where the test biting were performed\n",
        "for i in range(1, range_max):\n",
        "    if i < int(float(loc[0,0])) or (i > int(float(loc[0,1])) and i < int(float(loc[1,0]))) or (i > int(float(loc[1,1])) and i < int(float(loc[2,0]))) or i > int(float(loc[2,1])):\n",
        "        bites[i] = 0\n",
        "    else:\n",
        "        bites[i] = 1\n",
        "\n",
        "\"\"\"        \n",
        "print(\"add bites\")\n",
        "MR = data['MR']\n",
        "ML = data['ML']\n",
        "\n",
        "# Resample signals\n",
        "MR_resampled = nk.signal_resample(MR, sampling_rate=original_sampling, desired_sampling_rate=selected_sampling, method=\"pandas\")\n",
        "ML_resampled = nk.signal_resample(ML, sampling_rate=original_sampling, desired_sampling_rate=selected_sampling, method=\"pandas\")\n",
        "bites = nk.signal_resample(bites, sampling_rate=original_sampling, desired_sampling_rate=selected_sampling, method=\"pandas\")\n",
        "\n",
        "df = pl.DataFrame({'MR': MR_resampled, 'ML': ML_resampled, 'Bites': bites})\n",
        "\n",
        "# Data composed of MR and ML\n",
        "x = df[range_min:range_max,:2].clone()\n",
        "\n",
        "# Classifications composed from bites\n",
        "y = df[range_min:range_max,-1].clone()\n",
        "\n",
        "x = np.array(x)\n",
        "y = np.array(y)\n",
        "\n",
        "\n",
        "x_train, x_test, y_train, y_test = train_test_split(x, y, test_size=0.25, shuffle=False) # Split data for test and training\n",
        "SC = StandardScaler()\n",
        "\n",
        "# Scale features such that they have the properties of a standard normal distribution with a mean of zero and a standard deviation of one\n",
        "x_train = pd.DataFrame(SC.fit_transform(x_train))\n",
        "x_test = pd.DataFrame(SC.transform(x_test))\n",
        "\n",
        "\n",
        "# Fit model\n",
        "print(\"fit model\")\n",
        "model = xgb.XGBClassifier(n_estimators=100, objective='binary:logistic',\n",
        "    eval_metric='logloss', subsample=0.6, max_depth=3, learning_rate=0.1, colsample_bytree=1.0)\n",
        "model.fit(x_train, y_train)\n",
        "\n",
        "\n",
        "print(\"save model\")\n",
        "gen_model = False\n",
        "\n",
        "# TODO: Insert model info into DB and saves it\n",
        "model.save_model(\"C:/Users/eleon/Desktop/SDAP/backend/src/data/p2_model.json\")\n",
        "\n",
        "\n",
        "# TODO: check if general model exist in DB\n",
        "general_model = os.path.exists('C:/Users/eleon/Desktop/SDAP/backend/src/data/general_model.json')\n",
        "\n",
        "if not general_model:\n",
        "    # TODO: insert general model into DB\n",
        "\n",
        "    # Why same model variable? Shouldn't they be 2 different models??\n",
        "    model.save_model('C:/Users/eleon/Desktop/SDAP/backend/src/data/general_model.json')\n",
        "    gen_model = True\n",
        "\n",
        "\"\"\"\n",
        "# Events predictions\n",
        "labels = predict_events(DATABASE, model, patient_id, week, night_id, recorder)\n",
        "\n",
        "# What happens if no predictions are there?\n",
        "# TODO: check code: is this only on first time?\n",
        "if (not labels) or (len(labels) < 1):\n",
        "    with sql.connect(DATABASE) as con:\n",
        "        cur = con.cursor()\n",
        "        params = (patient_id)\n",
        "        query = \"DELETE FROM models WHERE patient_id=?\"\n",
        "        cur.execute(query, params)\n",
        "        # cur.execute(f\"DELETE FROM models WHERE patient_id={patient_id}\")\n",
        "        if gen_model:\n",
        "            cur.execute(f\"DELETE FROM models WHERE patient_id=-1\")\n",
        "\"\"\"\n"
      ]
    },
    {
      "cell_type": "markdown",
      "metadata": {
        "id": "7mWNwGRdnKcv"
      },
      "source": [
        "# PREDICT EVENTS"
      ]
    },
    {
      "cell_type": "code",
      "execution_count": 5,
      "metadata": {
        "colab": {
          "base_uri": "https://localhost:8080/"
        },
        "id": "7AwUNBUVTqZq",
        "outputId": "37a467c0-e0ee-497b-e0fa-4cc511fbb68f"
      },
      "outputs": [
        {
          "name": "stdout",
          "output_type": "stream",
          "text": [
            "5400000\n",
            "shape: (5_400_000, 2)\n",
            "┌───────────┬──────────┐\n",
            "│ MR        ┆ ML       │\n",
            "│ ---       ┆ ---      │\n",
            "│ f64       ┆ f64      │\n",
            "╞═══════════╪══════════╡\n",
            "│ -2.3222   ┆ -2.8358  │\n",
            "│ -1.6936   ┆ -2.4757  │\n",
            "│ -0.95283  ┆ -1.9747  │\n",
            "│ -0.24272  ┆ -1.419   │\n",
            "│ 0.46249   ┆ -0.80744 │\n",
            "│ …         ┆ …        │\n",
            "│ -0.054972 ┆ 0.044145 │\n",
            "│ -0.023149 ┆ 0.063727 │\n",
            "│ 0.0041987 ┆ 0.081505 │\n",
            "│ 0.0094327 ┆ 0.068084 │\n",
            "│ -0.006336 ┆ 0.043006 │\n",
            "└───────────┴──────────┘\n"
          ]
        }
      ],
      "source": [
        "# Create new dataframe to locate and add all the selected phases with the indexes\n",
        "index = [i for i in range(5*original_sampling*60 * len(selected))]\n",
        "\n",
        "print(len(index))\n",
        "\n",
        "\n",
        "df = pl.DataFrame()\n",
        "for i in range(len(selected)):\n",
        "    #print(data[selected[i]['start_id']:selected[i]['end_id'],:])\n",
        "    df = pl.concat([df, data[selected[i]['start_id']:selected[i]['end_id'],:]])\n",
        "#index = df.index\n",
        "\n",
        "print(df)\n",
        "#print(index)"
      ]
    },
    {
      "cell_type": "code",
      "execution_count": 6,
      "metadata": {
        "id": "cZEjtYS6R_pk"
      },
      "outputs": [],
      "source": [
        "MR = nk.signal_resample(df.get_column(\"MR\"), sampling_rate=original_sampling, desired_sampling_rate=selected_sampling, method=\"pandas\")\n",
        "ML = nk.signal_resample(df.get_column(\"ML\"), sampling_rate=original_sampling, desired_sampling_rate=selected_sampling, method=\"pandas\")\n",
        "df_resampled = pl.DataFrame({'MR': MR, 'ML': ML})\n",
        "\n",
        "index_resampled = nk.signal_resample(index, sampling_rate=original_sampling, desired_sampling_rate=selected_sampling, method=\"pandas\")"
      ]
    },
    {
      "cell_type": "code",
      "execution_count": 7,
      "metadata": {
        "colab": {
          "base_uri": "https://localhost:8080/"
        },
        "id": "LgcKv3sTZbrl",
        "outputId": "929f622b-423f-4f84-84d7-f6ca8e64dd1c"
      },
      "outputs": [
        {
          "data": {
            "text/plain": [
              "True"
            ]
          },
          "execution_count": 7,
          "metadata": {},
          "output_type": "execute_result"
        }
      ],
      "source": [
        "len(index_resampled) == df_resampled['MR'].count()"
      ]
    },
    {
      "cell_type": "code",
      "execution_count": 8,
      "metadata": {
        "colab": {
          "base_uri": "https://localhost:8080/"
        },
        "id": "5uiEPl71Zt-a",
        "outputId": "be2f5f9d-f2b6-4775-bd7a-2827a66485be"
      },
      "outputs": [
        {
          "data": {
            "text/plain": [
              "(2700000, 2)"
            ]
          },
          "execution_count": 8,
          "metadata": {},
          "output_type": "execute_result"
        }
      ],
      "source": [
        "np.array(df_resampled[:,:2].clone().rows()).shape"
      ]
    },
    {
      "cell_type": "code",
      "execution_count": 9,
      "metadata": {
        "id": "KUSwD4Wr2FQ_"
      },
      "outputs": [],
      "source": [
        "x = df_resampled[:,:2].clone()\n",
        "x_p = np.array(x.rows())\n",
        "y_p = model.predict(x_p)\n",
        "y_p_p = model.predict_proba(x_p)\n",
        "y_p_mix = []"
      ]
    },
    {
      "cell_type": "code",
      "execution_count": 17,
      "metadata": {},
      "outputs": [],
      "source": [
        "probabilities_max = []\n",
        "for i in range(len(y_p_p)):\n",
        "    max_proba = max(y_p_p[i])\n",
        "    probabilities_max.append(max_proba)\n"
      ]
    },
    {
      "cell_type": "code",
      "execution_count": null,
      "metadata": {},
      "outputs": [],
      "source": []
    },
    {
      "cell_type": "code",
      "execution_count": 11,
      "metadata": {
        "colab": {
          "base_uri": "https://localhost:8080/"
        },
        "id": "a7oVMaWf3h0Z",
        "outputId": "1de0b87b-01f4-4253-e61f-34bd2914b8a3"
      },
      "outputs": [
        {
          "data": {
            "text/plain": [
              "2700000"
            ]
          },
          "execution_count": 11,
          "metadata": {},
          "output_type": "execute_result"
        }
      ],
      "source": [
        "len(x_p)"
      ]
    },
    {
      "cell_type": "markdown",
      "metadata": {
        "id": "X13n_tTQOLpK"
      },
      "source": [
        "# ELEONORA CODE"
      ]
    },
    {
      "cell_type": "code",
      "execution_count": 19,
      "metadata": {},
      "outputs": [
        {
          "data": {
            "text/plain": [
              "(2700000,)"
            ]
          },
          "execution_count": 19,
          "metadata": {},
          "output_type": "execute_result"
        }
      ],
      "source": [
        "y_p.shape"
      ]
    },
    {
      "cell_type": "code",
      "execution_count": 24,
      "metadata": {
        "id": "RY2VdpeRCeZQ"
      },
      "outputs": [],
      "source": [
        "predicted_events = []\n",
        "start = 0\n",
        "end = 0\n",
        "first = True\n",
        "for i in range(len(y_p)):\n",
        "    if i == len(y_p)-1 and y_p[i] == 1 and y_p[i-1] == 1:\n",
        "        #print(\"last number is 1 with 1 as precedent\")\n",
        "        end = i\n",
        "\n",
        "        duration_s = (end-start)/selected_sampling\n",
        "\n",
        "        avg_probability = statistics.mean(probabilities_max[start:end+1])\n",
        "\n",
        "        if duration_s >= 0.25 and avg_probability > 0.9:\n",
        "            predicted_events.append({'location_begin': start, 'location_end': end, 'duration_s': (end-start)*selected_sampling*60, 'mean_proba': avg_probability})\n",
        "\n",
        "    if i == len(y_p)-1 and y_p[i] == 1 and y_p[i-1] == 0:\n",
        "        break\n",
        "\n",
        "    if i == len(y_p)-1 and y_p[i] == 0:\n",
        "        break\n",
        "\n",
        "    if y_p[i] == 1 and first == True:\n",
        "        #print(\"number is the first one: start event\")\n",
        "        start = i\n",
        "        first = False\n",
        "\n",
        "    if y_p[i+1] == 1:\n",
        "       # print(\"next number is one as well, continue\")\n",
        "        continue\n",
        "\n",
        "    if y_p[i] == 1 and first == False and y_p[i+1] == 0:\n",
        "        #print(\"next number is 0, current number is 1: end event\")\n",
        "        end = i\n",
        "\n",
        "        avg_probability = statistics.mean(probabilities_max[start:end+1])\n",
        "\n",
        "        duration_s = (end-start)/selected_sampling\n",
        "        if duration_s >= 0.25 and avg_probability > 0.9:\n",
        "            predicted_events.append({'location_begin': start, 'location_end': end, 'duration_s': duration_s, 'mean_proba': avg_probability})\n",
        "        first = True\n",
        "\n",
        "    if y_p[i] == 0:\n",
        "        #print(\"number is 0\")\n",
        "        continue\n",
        "\n",
        "\n"
      ]
    },
    {
      "cell_type": "code",
      "execution_count": 25,
      "metadata": {
        "colab": {
          "base_uri": "https://localhost:8080/"
        },
        "id": "26WGxAjxF-pr",
        "outputId": "512ed5c2-71a1-4b40-d309-a17b49b67487"
      },
      "outputs": [
        {
          "data": {
            "text/plain": [
              "[{'location_begin': 330045,\n",
              "  'location_end': 330942,\n",
              "  'duration_s': 0.897,\n",
              "  'mean_proba': 0.9008663},\n",
              " {'location_begin': 331804,\n",
              "  'location_end': 332601,\n",
              "  'duration_s': 0.797,\n",
              "  'mean_proba': 0.90043396},\n",
              " {'location_begin': 333363,\n",
              "  'location_end': 334120,\n",
              "  'duration_s': 0.757,\n",
              "  'mean_proba': 0.9004705},\n",
              " {'location_begin': 334942,\n",
              "  'location_end': 335659,\n",
              "  'duration_s': 0.717,\n",
              "  'mean_proba': 0.9012487},\n",
              " {'location_begin': 336421,\n",
              "  'location_end': 337098,\n",
              "  'duration_s': 0.677,\n",
              "  'mean_proba': 0.90026337},\n",
              " {'location_begin': 337800,\n",
              "  'location_end': 338437,\n",
              "  'duration_s': 0.637,\n",
              "  'mean_proba': 0.9020898},\n",
              " {'location_begin': 339119,\n",
              "  'location_end': 339836,\n",
              "  'duration_s': 0.717,\n",
              "  'mean_proba': 0.90121216},\n",
              " {'location_begin': 340558,\n",
              "  'location_end': 341195,\n",
              "  'duration_s': 0.637,\n",
              "  'mean_proba': 0.90105957},\n",
              " {'location_begin': 341997,\n",
              "  'location_end': 342674,\n",
              "  'duration_s': 0.677,\n",
              "  'mean_proba': 0.9019314},\n",
              " {'location_begin': 343476,\n",
              "  'location_end': 344313,\n",
              "  'duration_s': 0.837,\n",
              "  'mean_proba': 0.90217334},\n",
              " {'location_begin': 345315,\n",
              "  'location_end': 346192,\n",
              "  'duration_s': 0.877,\n",
              "  'mean_proba': 0.9020284},\n",
              " {'location_begin': 347234,\n",
              "  'location_end': 348071,\n",
              "  'duration_s': 0.837,\n",
              "  'mean_proba': 0.9047489},\n",
              " {'location_begin': 348973,\n",
              "  'location_end': 349990,\n",
              "  'duration_s': 1.017,\n",
              "  'mean_proba': 0.9033457},\n",
              " {'location_begin': 351052,\n",
              "  'location_end': 352149,\n",
              "  'duration_s': 1.097,\n",
              "  'mean_proba': 0.90422523},\n",
              " {'location_begin': 353091,\n",
              "  'location_end': 354168,\n",
              "  'duration_s': 1.077,\n",
              "  'mean_proba': 0.90450853},\n",
              " {'location_begin': 355210,\n",
              "  'location_end': 356547,\n",
              "  'duration_s': 1.337,\n",
              "  'mean_proba': 0.9048242},\n",
              " {'location_begin': 357829,\n",
              "  'location_end': 359246,\n",
              "  'duration_s': 1.417,\n",
              "  'mean_proba': 0.90514547},\n",
              " {'location_begin': 360848,\n",
              "  'location_end': 362025,\n",
              "  'duration_s': 1.177,\n",
              "  'mean_proba': 0.90496135},\n",
              " {'location_begin': 363427,\n",
              "  'location_end': 364804,\n",
              "  'duration_s': 1.377,\n",
              "  'mean_proba': 0.9043829},\n",
              " {'location_begin': 366646,\n",
              "  'location_end': 368703,\n",
              "  'duration_s': 2.057,\n",
              "  'mean_proba': 0.90504855},\n",
              " {'location_begin': 379545,\n",
              "  'location_end': 382642,\n",
              "  'duration_s': 3.097,\n",
              "  'mean_proba': 0.9087916},\n",
              " {'location_begin': 386044,\n",
              "  'location_end': 394621,\n",
              "  'duration_s': 8.577,\n",
              "  'mean_proba': 0.910834},\n",
              " {'location_begin': 397563,\n",
              "  'location_end': 400880,\n",
              "  'duration_s': 3.317,\n",
              "  'mean_proba': 0.9111517},\n",
              " {'location_begin': 404422,\n",
              "  'location_end': 407739,\n",
              "  'duration_s': 3.317,\n",
              "  'mean_proba': 0.91282535},\n",
              " {'location_begin': 410201,\n",
              "  'location_end': 412078,\n",
              "  'duration_s': 1.877,\n",
              "  'mean_proba': 0.91427463},\n",
              " {'location_begin': 413440,\n",
              "  'location_end': 415277,\n",
              "  'duration_s': 1.837,\n",
              "  'mean_proba': 0.9148412},\n",
              " {'location_begin': 416559,\n",
              "  'location_end': 418296,\n",
              "  'duration_s': 1.737,\n",
              "  'mean_proba': 0.9151777},\n",
              " {'location_begin': 419478,\n",
              "  'location_end': 420735,\n",
              "  'duration_s': 1.257,\n",
              "  'mean_proba': 0.9163069},\n",
              " {'location_begin': 421717,\n",
              "  'location_end': 423054,\n",
              "  'duration_s': 1.337,\n",
              "  'mean_proba': 0.9147679},\n",
              " {'location_begin': 424076,\n",
              "  'location_end': 425553,\n",
              "  'duration_s': 1.477,\n",
              "  'mean_proba': 0.9156837},\n",
              " {'location_begin': 427135,\n",
              "  'location_end': 429872,\n",
              "  'duration_s': 2.737,\n",
              "  'mean_proba': 0.91709477},\n",
              " {'location_begin': 432254,\n",
              "  'location_end': 438911,\n",
              "  'duration_s': 6.657,\n",
              "  'mean_proba': 0.9174466},\n",
              " {'location_begin': 440573,\n",
              "  'location_end': 442870,\n",
              "  'duration_s': 2.297,\n",
              "  'mean_proba': 0.9198942},\n",
              " {'location_begin': 443952,\n",
              "  'location_end': 445509,\n",
              "  'duration_s': 1.557,\n",
              "  'mean_proba': 0.91872907},\n",
              " {'location_begin': 446411,\n",
              "  'location_end': 447768,\n",
              "  'duration_s': 1.357,\n",
              "  'mean_proba': 0.9184602},\n",
              " {'location_begin': 448490,\n",
              "  'location_end': 449427,\n",
              "  'duration_s': 0.937,\n",
              "  'mean_proba': 0.91918784},\n",
              " {'location_begin': 450009,\n",
              "  'location_end': 450906,\n",
              "  'duration_s': 0.897,\n",
              "  'mean_proba': 0.91846687},\n",
              " {'location_begin': 451488,\n",
              "  'location_end': 452325,\n",
              "  'duration_s': 0.837,\n",
              "  'mean_proba': 0.91898906},\n",
              " {'location_begin': 452867,\n",
              "  'location_end': 453644,\n",
              "  'duration_s': 0.777,\n",
              "  'mean_proba': 0.9184532},\n",
              " {'location_begin': 454126,\n",
              "  'location_end': 454923,\n",
              "  'duration_s': 0.797,\n",
              "  'mean_proba': 0.9203083},\n",
              " {'location_begin': 455385,\n",
              "  'location_end': 456262,\n",
              "  'duration_s': 0.877,\n",
              "  'mean_proba': 0.91809756},\n",
              " {'location_begin': 456804,\n",
              "  'location_end': 457821,\n",
              "  'duration_s': 1.017,\n",
              "  'mean_proba': 0.9185138},\n",
              " {'location_begin': 458403,\n",
              "  'location_end': 459400,\n",
              "  'duration_s': 0.997,\n",
              "  'mean_proba': 0.92001927},\n",
              " {'location_begin': 460042,\n",
              "  'location_end': 461179,\n",
              "  'duration_s': 1.137,\n",
              "  'mean_proba': 0.9201122},\n",
              " {'location_begin': 461981,\n",
              "  'location_end': 463258,\n",
              "  'duration_s': 1.277,\n",
              "  'mean_proba': 0.9182037},\n",
              " {'location_begin': 463920,\n",
              "  'location_end': 465097,\n",
              "  'duration_s': 1.177,\n",
              "  'mean_proba': 0.92062354},\n",
              " {'location_begin': 465939,\n",
              "  'location_end': 467076,\n",
              "  'duration_s': 1.137,\n",
              "  'mean_proba': 0.9210159},\n",
              " {'location_begin': 467758,\n",
              "  'location_end': 468895,\n",
              "  'duration_s': 1.137,\n",
              "  'mean_proba': 0.9195104},\n",
              " {'location_begin': 469577,\n",
              "  'location_end': 470814,\n",
              "  'duration_s': 1.237,\n",
              "  'mean_proba': 0.92065006},\n",
              " {'location_begin': 471476,\n",
              "  'location_end': 473193,\n",
              "  'duration_s': 1.717,\n",
              "  'mean_proba': 0.91871625},\n",
              " {'location_begin': 474175,\n",
              "  'location_end': 476132,\n",
              "  'duration_s': 1.957,\n",
              "  'mean_proba': 0.9210661},\n",
              " {'location_begin': 477594,\n",
              "  'location_end': 479131,\n",
              "  'duration_s': 1.537,\n",
              "  'mean_proba': 0.92132884},\n",
              " {'location_begin': 480033,\n",
              "  'location_end': 481190,\n",
              "  'duration_s': 1.157,\n",
              "  'mean_proba': 0.92123693},\n",
              " {'location_begin': 481832,\n",
              "  'location_end': 482769,\n",
              "  'duration_s': 0.937,\n",
              "  'mean_proba': 0.92157656},\n",
              " {'location_begin': 483311,\n",
              "  'location_end': 484208,\n",
              "  'duration_s': 0.897,\n",
              "  'mean_proba': 0.9200357},\n",
              " {'location_begin': 484610,\n",
              "  'location_end': 485627,\n",
              "  'duration_s': 1.017,\n",
              "  'mean_proba': 0.9185506},\n",
              " {'location_begin': 486049,\n",
              "  'location_end': 487006,\n",
              "  'duration_s': 0.957,\n",
              "  'mean_proba': 0.91981465},\n",
              " {'location_begin': 487428,\n",
              "  'location_end': 488365,\n",
              "  'duration_s': 0.937,\n",
              "  'mean_proba': 0.91851526},\n",
              " {'location_begin': 488847,\n",
              "  'location_end': 489704,\n",
              "  'duration_s': 0.857,\n",
              "  'mean_proba': 0.92065126},\n",
              " {'location_begin': 490086,\n",
              "  'location_end': 491003,\n",
              "  'duration_s': 0.917,\n",
              "  'mean_proba': 0.91896504},\n",
              " {'location_begin': 491425,\n",
              "  'location_end': 492162,\n",
              "  'duration_s': 0.737,\n",
              "  'mean_proba': 0.92201567},\n",
              " {'location_begin': 492624,\n",
              "  'location_end': 493401,\n",
              "  'duration_s': 0.777,\n",
              "  'mean_proba': 0.9216321},\n",
              " {'location_begin': 493883,\n",
              "  'location_end': 494660,\n",
              "  'duration_s': 0.777,\n",
              "  'mean_proba': 0.92197835},\n",
              " {'location_begin': 495122,\n",
              "  'location_end': 495919,\n",
              "  'duration_s': 0.797,\n",
              "  'mean_proba': 0.922209},\n",
              " {'location_begin': 496281,\n",
              "  'location_end': 497218,\n",
              "  'duration_s': 0.937,\n",
              "  'mean_proba': 0.91914856},\n",
              " {'location_begin': 497600,\n",
              "  'location_end': 498537,\n",
              "  'duration_s': 0.937,\n",
              "  'mean_proba': 0.9189732},\n",
              " {'location_begin': 498939,\n",
              "  'location_end': 499996,\n",
              "  'duration_s': 1.057,\n",
              "  'mean_proba': 0.9189259},\n",
              " {'location_begin': 500438,\n",
              "  'location_end': 501675,\n",
              "  'duration_s': 1.237,\n",
              "  'mean_proba': 0.9182477},\n",
              " {'location_begin': 502237,\n",
              "  'location_end': 503554,\n",
              "  'duration_s': 1.317,\n",
              "  'mean_proba': 0.9202244},\n",
              " {'location_begin': 504076,\n",
              "  'location_end': 505233,\n",
              "  'duration_s': 1.157,\n",
              "  'mean_proba': 0.9181093},\n",
              " {'location_begin': 505655,\n",
              "  'location_end': 506652,\n",
              "  'duration_s': 0.997,\n",
              "  'mean_proba': 0.9194111},\n",
              " {'location_begin': 507074,\n",
              "  'location_end': 508151,\n",
              "  'duration_s': 1.077,\n",
              "  'mean_proba': 0.9200369},\n",
              " {'location_begin': 508593,\n",
              "  'location_end': 509710,\n",
              "  'duration_s': 1.117,\n",
              "  'mean_proba': 0.9181573},\n",
              " {'location_begin': 510212,\n",
              "  'location_end': 511149,\n",
              "  'duration_s': 0.937,\n",
              "  'mean_proba': 0.921595},\n",
              " {'location_begin': 511651,\n",
              "  'location_end': 512648,\n",
              "  'duration_s': 0.997,\n",
              "  'mean_proba': 0.9217618},\n",
              " {'location_begin': 513090,\n",
              "  'location_end': 514407,\n",
              "  'duration_s': 1.317,\n",
              "  'mean_proba': 0.91994345},\n",
              " {'location_begin': 515109,\n",
              "  'location_end': 516466,\n",
              "  'duration_s': 1.357,\n",
              "  'mean_proba': 0.92287946},\n",
              " {'location_begin': 517208,\n",
              "  'location_end': 519205,\n",
              "  'duration_s': 1.997,\n",
              "  'mean_proba': 0.9193019},\n",
              " {'location_begin': 520307,\n",
              "  'location_end': 521984,\n",
              "  'duration_s': 1.677,\n",
              "  'mean_proba': 0.9225331},\n",
              " {'location_begin': 522686,\n",
              "  'location_end': 524363,\n",
              "  'duration_s': 1.677,\n",
              "  'mean_proba': 0.9203103},\n",
              " {'location_begin': 525485,\n",
              "  'location_end': 525743,\n",
              "  'duration_s': 0.258,\n",
              "  'mean_proba': 0.91615504},\n",
              " {'location_begin': 525845,\n",
              "  'location_end': 526263,\n",
              "  'duration_s': 0.418,\n",
              "  'mean_proba': 0.92035633},\n",
              " {'location_begin': 526265,\n",
              "  'location_end': 526782,\n",
              "  'duration_s': 0.517,\n",
              "  'mean_proba': 0.91914546},\n",
              " {'location_begin': 527484,\n",
              "  'location_end': 529041,\n",
              "  'duration_s': 1.557,\n",
              "  'mean_proba': 0.9200832},\n",
              " {'location_begin': 530163,\n",
              "  'location_end': 531580,\n",
              "  'duration_s': 1.417,\n",
              "  'mean_proba': 0.9239869},\n",
              " {'location_begin': 533022,\n",
              "  'location_end': 535139,\n",
              "  'duration_s': 2.117,\n",
              "  'mean_proba': 0.92416054},\n",
              " {'location_begin': 536341,\n",
              "  'location_end': 538998,\n",
              "  'duration_s': 2.657,\n",
              "  'mean_proba': 0.921778},\n",
              " {'location_begin': 540040,\n",
              "  'location_end': 540358,\n",
              "  'duration_s': 0.318,\n",
              "  'mean_proba': 0.903504},\n",
              " {'location_begin': 540360,\n",
              "  'location_end': 542157,\n",
              "  'duration_s': 1.797,\n",
              "  'mean_proba': 0.9233693},\n",
              " {'location_begin': 542979,\n",
              "  'location_end': 544576,\n",
              "  'duration_s': 1.597,\n",
              "  'mean_proba': 0.9211434},\n",
              " {'location_begin': 545078,\n",
              "  'location_end': 546375,\n",
              "  'duration_s': 1.297,\n",
              "  'mean_proba': 0.92039275},\n",
              " {'location_begin': 546917,\n",
              "  'location_end': 548094,\n",
              "  'duration_s': 1.177,\n",
              "  'mean_proba': 0.92154235},\n",
              " {'location_begin': 548556,\n",
              "  'location_end': 549793,\n",
              "  'duration_s': 1.237,\n",
              "  'mean_proba': 0.92080355},\n",
              " {'location_begin': 550315,\n",
              "  'location_end': 551732,\n",
              "  'duration_s': 1.417,\n",
              "  'mean_proba': 0.92257786},\n",
              " {'location_begin': 552294,\n",
              "  'location_end': 553711,\n",
              "  'duration_s': 1.417,\n",
              "  'mean_proba': 0.92114013},\n",
              " {'location_begin': 554513,\n",
              "  'location_end': 555950,\n",
              "  'duration_s': 1.437,\n",
              "  'mean_proba': 0.9255098},\n",
              " {'location_begin': 556652,\n",
              "  'location_end': 558309,\n",
              "  'duration_s': 1.657,\n",
              "  'mean_proba': 0.9210922},\n",
              " {'location_begin': 558911,\n",
              "  'location_end': 560488,\n",
              "  'duration_s': 1.577,\n",
              "  'mean_proba': 0.92160505},\n",
              " {'location_begin': 561190,\n",
              "  'location_end': 563227,\n",
              "  'duration_s': 2.037,\n",
              "  'mean_proba': 0.92384696},\n",
              " {'location_begin': 564409,\n",
              "  'location_end': 567306,\n",
              "  'duration_s': 2.897,\n",
              "  'mean_proba': 0.92319065},\n",
              " {'location_begin': 568508,\n",
              "  'location_end': 570885,\n",
              "  'duration_s': 2.377,\n",
              "  'mean_proba': 0.92253864},\n",
              " {'location_begin': 571847,\n",
              "  'location_end': 575084,\n",
              "  'duration_s': 3.237,\n",
              "  'mean_proba': 0.9234911},\n",
              " {'location_begin': 577326,\n",
              "  'location_end': 581623,\n",
              "  'duration_s': 4.297,\n",
              "  'mean_proba': 0.9225206},\n",
              " {'location_begin': 582905,\n",
              "  'location_end': 585162,\n",
              "  'duration_s': 2.257,\n",
              "  'mean_proba': 0.9219642},\n",
              " {'location_begin': 586124,\n",
              "  'location_end': 588341,\n",
              "  'duration_s': 2.217,\n",
              "  'mean_proba': 0.9221209},\n",
              " {'location_begin': 589583,\n",
              "  'location_end': 592960,\n",
              "  'duration_s': 3.377,\n",
              "  'mean_proba': 0.9223141},\n",
              " {'location_begin': 594402,\n",
              "  'location_end': 597439,\n",
              "  'duration_s': 3.037,\n",
              "  'mean_proba': 0.9209084},\n",
              " {'location_begin': 598801,\n",
              "  'location_end': 605279,\n",
              "  'duration_s': 6.478,\n",
              "  'mean_proba': 0.92076564},\n",
              " {'location_begin': 606541,\n",
              "  'location_end': 608480,\n",
              "  'duration_s': 1.939,\n",
              "  'mean_proba': 0.92279863},\n",
              " {'location_begin': 609062,\n",
              "  'location_end': 610481,\n",
              "  'duration_s': 1.419,\n",
              "  'mean_proba': 0.92328256},\n",
              " {'location_begin': 611103,\n",
              "  'location_end': 612562,\n",
              "  'duration_s': 1.459,\n",
              "  'mean_proba': 0.9224006},\n",
              " {'location_begin': 613164,\n",
              "  'location_end': 614543,\n",
              "  'duration_s': 1.379,\n",
              "  'mean_proba': 0.9228277},\n",
              " {'location_begin': 615025,\n",
              "  'location_end': 616344,\n",
              "  'duration_s': 1.319,\n",
              "  'mean_proba': 0.9213786},\n",
              " {'location_begin': 617066,\n",
              "  'location_end': 618585,\n",
              "  'duration_s': 1.519,\n",
              "  'mean_proba': 0.9228934},\n",
              " {'location_begin': 619147,\n",
              "  'location_end': 620546,\n",
              "  'duration_s': 1.399,\n",
              "  'mean_proba': 0.9217976},\n",
              " {'location_begin': 621188,\n",
              "  'location_end': 623287,\n",
              "  'duration_s': 2.099,\n",
              "  'mean_proba': 0.92278856},\n",
              " {'location_begin': 624089,\n",
              "  'location_end': 626088,\n",
              "  'duration_s': 1.999,\n",
              "  'mean_proba': 0.9230475},\n",
              " {'location_begin': 626970,\n",
              "  'location_end': 628849,\n",
              "  'duration_s': 1.879,\n",
              "  'mean_proba': 0.9227525},\n",
              " {'location_begin': 629471,\n",
              "  'location_end': 631030,\n",
              "  'duration_s': 1.559,\n",
              "  'mean_proba': 0.9222748},\n",
              " {'location_begin': 631652,\n",
              "  'location_end': 632971,\n",
              "  'duration_s': 1.319,\n",
              "  'mean_proba': 0.9221025},\n",
              " {'location_begin': 633493,\n",
              "  'location_end': 634652,\n",
              "  'duration_s': 1.159,\n",
              "  'mean_proba': 0.92294055},\n",
              " {'location_begin': 635134,\n",
              "  'location_end': 636433,\n",
              "  'duration_s': 1.299,\n",
              "  'mean_proba': 0.9224132},\n",
              " {'location_begin': 636975,\n",
              "  'location_end': 638294,\n",
              "  'duration_s': 1.319,\n",
              "  'mean_proba': 0.92199147},\n",
              " {'location_begin': 638736,\n",
              "  'location_end': 639965,\n",
              "  'duration_s': 1.229,\n",
              "  'mean_proba': 0.9220854},\n",
              " {'location_begin': 640337,\n",
              "  'location_end': 641556,\n",
              "  'duration_s': 1.219,\n",
              "  'mean_proba': 0.924004},\n",
              " {'location_begin': 641998,\n",
              "  'location_end': 643137,\n",
              "  'duration_s': 1.139,\n",
              "  'mean_proba': 0.92597187},\n",
              " {'location_begin': 643599,\n",
              "  'location_end': 644718,\n",
              "  'duration_s': 1.119,\n",
              "  'mean_proba': 0.92339677},\n",
              " {'location_begin': 645040,\n",
              "  'location_end': 646159,\n",
              "  'duration_s': 1.119,\n",
              "  'mean_proba': 0.92373455},\n",
              " {'location_begin': 646521,\n",
              "  'location_end': 647530,\n",
              "  'duration_s': 1.009,\n",
              "  'mean_proba': 0.92303586},\n",
              " {'location_begin': 647822,\n",
              "  'location_end': 648691,\n",
              "  'duration_s': 0.869,\n",
              "  'mean_proba': 0.9233158},\n",
              " {'location_begin': 648943,\n",
              "  'location_end': 649782,\n",
              "  'duration_s': 0.839,\n",
              "  'mean_proba': 0.92443657},\n",
              " {'location_begin': 650104,\n",
              "  'location_end': 651003,\n",
              "  'duration_s': 0.899,\n",
              "  'mean_proba': 0.92339796},\n",
              " {'location_begin': 651265,\n",
              "  'location_end': 651864,\n",
              "  'duration_s': 0.599,\n",
              "  'mean_proba': 0.9259954}]"
            ]
          },
          "execution_count": 25,
          "metadata": {},
          "output_type": "execute_result"
        }
      ],
      "source": [
        "predicted_events"
      ]
    },
    {
      "cell_type": "code",
      "execution_count": 26,
      "metadata": {
        "colab": {
          "base_uri": "https://localhost:8080/"
        },
        "id": "BLePYAnZ9wgC",
        "outputId": "0f70e7e6-bdf9-4df6-8872-29b4d39e6ff4"
      },
      "outputs": [
        {
          "data": {
            "text/plain": [
              "133"
            ]
          },
          "execution_count": 26,
          "metadata": {},
          "output_type": "execute_result"
        }
      ],
      "source": [
        "len(predicted_events)"
      ]
    },
    {
      "cell_type": "markdown",
      "metadata": {
        "id": "3lzHCcJDOUWS"
      },
      "source": [
        "# YIFAN CODE"
      ]
    },
    {
      "cell_type": "code",
      "execution_count": 15,
      "metadata": {
        "id": "XJrwEaKjD0jm"
      },
      "outputs": [
        {
          "name": "stdout",
          "output_type": "stream",
          "text": [
            "update end: 310060\n",
            "update end idx: 310060\n",
            "update end: 315060\n",
            "update end idx: 315060\n",
            "update end: 320060\n",
            "update end idx: 320060\n",
            "update end: 325060\n",
            "update end idx: 325060\n",
            "update end: 330060\n",
            "update end idx: 330060\n",
            "update end: 335060\n",
            "update end idx: 335060\n",
            "update end: 340060\n",
            "update end idx: 340060\n",
            "update end: 345060\n",
            "update end idx: 345060\n",
            "update end: 350060\n",
            "update end idx: 350060\n",
            "update end: 355060\n",
            "update end idx: 355060\n",
            "update end: 360060\n",
            "update end idx: 360060\n",
            "update end: 370072\n",
            "update end idx: 370072\n",
            "update end: 375072\n",
            "update end idx: 375072\n",
            "update end: 380072\n",
            "update end idx: 380072\n",
            "update end: 385072\n",
            "update end idx: 385072\n",
            "update end: 390072\n",
            "update end idx: 390072\n",
            "update end: 395072\n",
            "update end idx: 395072\n",
            "update end: 400072\n",
            "update end idx: 400072\n",
            "update end: 405072\n",
            "update end idx: 405072\n",
            "update end: 410072\n",
            "update end idx: 410072\n",
            "update end: 415072\n",
            "update end idx: 415072\n",
            "update end: 420072\n",
            "update end idx: 420072\n",
            "update end: 430084\n",
            "update end idx: 430084\n",
            "update end: 435084\n",
            "update end idx: 435084\n",
            "update end: 440084\n",
            "update end idx: 440084\n",
            "update end: 445084\n",
            "update end idx: 445084\n",
            "update end: 450084\n",
            "update end idx: 450084\n",
            "update end: 455084\n",
            "update end idx: 455084\n",
            "update end: 460084\n",
            "update end idx: 460084\n",
            "update end: 465084\n",
            "update end idx: 465084\n",
            "update end: 470084\n",
            "update end idx: 470084\n",
            "update end: 475084\n",
            "update end idx: 475084\n",
            "update end: 480084\n",
            "update end idx: 480084\n",
            "update end: 490096\n",
            "update end idx: 490096\n",
            "update end: 495096\n",
            "update end idx: 495096\n",
            "update end: 500096\n",
            "update end idx: 500096\n",
            "update end: 505096\n",
            "update end idx: 505096\n",
            "update end: 510096\n",
            "update end idx: 510096\n",
            "update end: 515096\n",
            "update end idx: 515096\n",
            "update end: 520096\n",
            "update end idx: 520096\n",
            "update end: 525096\n",
            "update end idx: 525096\n",
            "update end: 530096\n",
            "update end idx: 530096\n",
            "update end: 535096\n",
            "update end idx: 535096\n",
            "update end: 540096\n",
            "update end idx: 540096\n",
            "update end: 550108\n",
            "update end idx: 550108\n",
            "update end: 555108\n",
            "update end idx: 555108\n",
            "update end: 560108\n",
            "update end idx: 560108\n",
            "update end: 565108\n",
            "update end idx: 565108\n",
            "update end: 570108\n",
            "update end idx: 570108\n",
            "update end: 575108\n",
            "update end idx: 575108\n",
            "update end: 580108\n",
            "update end idx: 580108\n",
            "update end: 585108\n",
            "update end idx: 585108\n",
            "update end: 590108\n",
            "update end idx: 590108\n",
            "update end: 595108\n",
            "update end idx: 595108\n",
            "update end: 600108\n",
            "update end idx: 600108\n",
            "update end: 610120\n",
            "update end idx: 610120\n",
            "update end: 615120\n",
            "update end idx: 615120\n",
            "update end: 620120\n",
            "update end idx: 620120\n",
            "update end: 625120\n",
            "update end idx: 625120\n",
            "update end: 630120\n",
            "update end idx: 630120\n",
            "update end: 635120\n",
            "update end idx: 635120\n",
            "update end: 640120\n",
            "update end idx: 640120\n",
            "update end: 645120\n",
            "update end idx: 645120\n",
            "update end: 650120\n",
            "update end idx: 650120\n",
            "update end: 655120\n",
            "update end idx: 655120\n",
            "update end: 670132\n",
            "update end idx: 670132\n",
            "update end: 890176\n",
            "update end idx: 890176\n"
          ]
        }
      ],
      "source": [
        "# Perform prediction on selected labels\n",
        "x = df_resampled[:,:2].clone()\n",
        "x_p = np.array(x.rows())\n",
        "y_p = model.predict(x_p)\n",
        "\n",
        "# What is y_p mix?\n",
        "y_p_mix = []\n",
        "i = 0\n",
        "event = 0\n",
        "loc_start = 0\n",
        "loc_end = 0\n",
        "\n",
        "predicted_labels = {}\n",
        "\n",
        "while i < len(y_p):\n",
        "    # What is y_sum?\n",
        "    y_sum = y_p[i];\n",
        "    cnt = 1;\n",
        "\n",
        "    # What are you looping in here?\n",
        "    # 5 second window\n",
        "    for j in range(1, 5*selected_sampling+1):\n",
        "        # What check is performed here? Why 5*original_sampling?\n",
        "        if(i+j >= len(y_p) or ((index[i+j] - index[i])>5*original_sampling)):\n",
        "            #print(\"dur:\", cnt/selected_sampling)\n",
        "            break;\n",
        "        y_sum += y_p[i+j];\n",
        "        cnt += 1;\n",
        "\n",
        "    # What are you checking with this 0.6?\n",
        "    # y_sum/cnt probability to be an event\n",
        "    if y_sum/cnt >= 0.6:\n",
        "        # Same here: why 55*selected_sampling?\n",
        "        # Look if event is at beginning or greater than 5.5 seconds\n",
        "        if(loc_start == 0 or loc_end-loc_start > 55*selected_sampling):\n",
        "            event += 1\n",
        "            loc_start = i\n",
        "            loc_end = i+cnt-1\n",
        "            location_begin = index[i]\n",
        "            location_end = index[loc_end]\n",
        "            # why are you saving location_begin and end, and start_index and end, which are the same?\n",
        "            predicted_labels[event] = {'location_begin': location_begin, 'location_end': location_end, 'start_index': i, 'end_index': loc_end}\n",
        "\n",
        "            cycle = np.floor(location_begin / 90 / 60 / original_sampling)\n",
        "\n",
        "        # What are you checking here? Why are you updating?\n",
        "        elif(y_p_mix[-1] == 10):\n",
        "            loc_end += cnt-1\n",
        "            predicted_labels[event].update({'location_end': index[loc_end], 'end_index': loc_end})\n",
        "            print(\"update end:\", loc_end)\n",
        "            print(\"update end idx:\", index[loc_end])\n",
        "        # What is this for?\n",
        "        y_p_mix.extend([10]*cnt)\n",
        "    else:\n",
        "        loc_start = 0\n",
        "        # Same here\n",
        "        y_p_mix.extend([0]*cnt)\n",
        "    i += cnt"
      ]
    },
    {
      "cell_type": "code",
      "execution_count": 16,
      "metadata": {
        "colab": {
          "base_uri": "https://localhost:8080/"
        },
        "id": "EX-ufnqDENuJ",
        "outputId": "ddcfe91a-1ce9-442e-e7b5-2306a0dc57a3"
      },
      "outputs": [
        {
          "data": {
            "text/plain": [
              "{1: {'location_begin': 300060,\n",
              "  'location_end': 360060,\n",
              "  'start_index': 300060,\n",
              "  'end_index': 360060},\n",
              " 2: {'location_begin': 360072,\n",
              "  'location_end': 420072,\n",
              "  'start_index': 360072,\n",
              "  'end_index': 420072},\n",
              " 3: {'location_begin': 420084,\n",
              "  'location_end': 480084,\n",
              "  'start_index': 420084,\n",
              "  'end_index': 480084},\n",
              " 4: {'location_begin': 480096,\n",
              "  'location_end': 540096,\n",
              "  'start_index': 480096,\n",
              "  'end_index': 540096},\n",
              " 5: {'location_begin': 540108,\n",
              "  'location_end': 600108,\n",
              "  'start_index': 540108,\n",
              "  'end_index': 600108},\n",
              " 6: {'location_begin': 600120,\n",
              "  'location_end': 655120,\n",
              "  'start_index': 600120,\n",
              "  'end_index': 655120},\n",
              " 7: {'location_begin': 660132,\n",
              "  'location_end': 670132,\n",
              "  'start_index': 660132,\n",
              "  'end_index': 670132},\n",
              " 8: {'location_begin': 880176,\n",
              "  'location_end': 890176,\n",
              "  'start_index': 880176,\n",
              "  'end_index': 890176}}"
            ]
          },
          "execution_count": 16,
          "metadata": {},
          "output_type": "execute_result"
        }
      ],
      "source": [
        "predicted_labels"
      ]
    },
    {
      "cell_type": "code",
      "execution_count": 36,
      "metadata": {
        "colab": {
          "base_uri": "https://localhost:8080/",
          "height": 71
        },
        "id": "5qvjk8LcS4tv",
        "outputId": "5a3df1a1-4322-4e81-bbcf-d380f073bff1"
      },
      "outputs": [
        {
          "data": {
            "application/vnd.google.colaboratory.intrinsic+json": {
              "type": "string"
            },
            "text/plain": [
              "'\\n# Perform prediction on selected labels\\nx = df_resampled[:,:2].clone()\\nx_p = np.array(x.rows())\\ny_p = model.predict(x_p)\\n\\n\\ny_p_mix = []\\ni = 0\\nevent = 0\\nloc_start = 0\\nloc_end = 0\\n\\npredicted_labels = {}\\n\\nwhile i < len(y_p):\\n    y_sum = y_p[i];\\n    cnt = 1;\\n    for j in range(1, 5*selected_sampling+1):\\n        if i == 0:\\n            print(f\\'j :{j} i+j: {i+j}\\')\\n        if(i+j >= len(y_p) or ((index[i+j] - index[i])>5*original_sampling)):\\n            if i== 0:\\n                print(\"dur:\", cnt/selected_sampling)\\n            break;\\n        y_sum += y_p[i+j];\\n        cnt += 1;\\n    if y_sum/cnt >= 0.6:\\n        if(loc_start == 0 or loc_end-loc_start > 55*selected_sampling):\\n            event += 1\\n            loc_start = i\\n            loc_end = i+cnt-1\\n            location_begin = index[i]\\n            location_end = index[loc_end]\\n            #params = (patient_id, week, night_id, recorder, event, location_begin, location_end, i, loc_end)\\n            #print(params)\\n            #query = \"INSERT INTO predicted_labels (patient_id, week, night_id, recorder, label_id, location_begin, location_end, start_index, end_index) VALUES (?, ?, ?, ?, ?, ?, ?, ?, ?)\"\\n            #cur.execute(query, params)\\n\\n            predicted_labels[event] = {\\'location_begin\\': location_begin, \\'location_end\\': location_end, \\'start_index\\': i, \\'end_index\\': loc_end}\\n            \\n            cycle = np.floor(location_begin / 90 / 60 / original_sampling)\\n            #params = (patient_id, week, night_id, cycle)\\n            #query = \"SELECT count,type from week_summary WHERE (patient_id=? AND week=? AND night_id=? AND cycle=?)\"\\n            #cur.execute(query, params)\\n            #count = cur.fetchall()\\n\\n            if count:\\n                # print(count[0][0])\\n                if cycle < cycle_num/2:\\n                    type_ind = 0\\n                else:\\n                    type_ind = count[0][1] + 1\\n                params = (count[0][0]+1, type_ind, patient_id, week, night_id, cycle)\\n                query = \"UPDATE week_summary SET count = ?, type = ? WHERE (patient_id=? AND week=? AND night_id=? AND cycle=?)\"\\n                cur.execute(query, params)\\n            else:\\n                if cycle < cycle_num/2:\\n                    type_ind = 0\\n                else:\\n                    type_ind = 1\\n                params = (patient_id, week, night_id, cycle, cycle_num, 1, type_ind)\\n                query = \"INSERT INTO week_summary (patient_id, week, night_id, cycle, max_cycle, count, type) VALUES (?, ?, ?, ?, ?, ?, ?)\"\\n                cur.execute(query, params)\\n            print(\"current end idx:\", location_end)\\n            \\n        elif(y_p_mix[-1] == 10):\\n            loc_end += cnt-1\\n            #params = (index[loc_end], loc_end, patient_id, week, night_id, recorder, event)\\n            #query = \"UPDATE predicted_labels SET location_end = ?, end_index = ? WHERE (patient_id=? AND week=? AND night_id=? AND recorder=? AND label_id=?)\"\\n            #cur.execute(query, params)\\n            predicted_labels[event].update({\\'location_end\\': index[loc_end], \\'end_index\\': loc_end})\\n            print(\"update end:\", loc_end)\\n            print(\"update end idx:\", index[loc_end])\\n        y_p_mix.extend([10]*cnt);\\n    else:\\n        loc_start = 0\\n        y_p_mix.extend([0]*cnt);\\n    i += cnt;\\n    # print(i)\\n# print(event)\\n#params = (patient_id, week, night_id, recorder)\\n#query = \"SELECT DISTINCT * from predicted_labels WHERE (patient_id=? AND week=? AND night_id=? AND recorder=?)\"\\n#labels = cur.execute(query, params).fetchall()\\n#return labels\\n'"
            ]
          },
          "execution_count": 36,
          "metadata": {},
          "output_type": "execute_result"
        }
      ],
      "source": [
        "\"\"\"\n",
        "# Perform prediction on selected labels\n",
        "x = df_resampled[:,:2].clone()\n",
        "x_p = np.array(x.rows())\n",
        "y_p = model.predict(x_p)\n",
        "\n",
        "\n",
        "y_p_mix = []\n",
        "i = 0\n",
        "event = 0\n",
        "loc_start = 0\n",
        "loc_end = 0\n",
        "\n",
        "predicted_labels = {}\n",
        "\n",
        "while i < len(y_p):\n",
        "    y_sum = y_p[i];\n",
        "    cnt = 1;\n",
        "    for j in range(1, 5*selected_sampling+1):\n",
        "        if(i+j >= len(y_p) or ((index[i+j] - index[i])>5*original_sampling)):\n",
        "            # print(\"dur:\", cnt/selected_sampling)\n",
        "            break;\n",
        "        y_sum += y_p[i+j];\n",
        "        cnt += 1;\n",
        "    if y_sum/cnt >= 0.6:\n",
        "        if(loc_start == 0 or loc_end-loc_start > 55*selected_sampling):\n",
        "            event += 1\n",
        "            loc_start = i\n",
        "            loc_end = i+cnt-1\n",
        "            location_begin = index[i]\n",
        "            location_end = index[loc_end]\n",
        "            #params = (patient_id, week, night_id, recorder, event, location_begin, location_end, i, loc_end)\n",
        "            #print(params)\n",
        "            #query = \"INSERT INTO predicted_labels (patient_id, week, night_id, recorder, label_id, location_begin, location_end, start_index, end_index) VALUES (?, ?, ?, ?, ?, ?, ?, ?, ?)\"\n",
        "            #cur.execute(query, params)\n",
        "\n",
        "            predicted_labels[event] = {'location_begin': location_begin, 'location_end': location_end, 'start_index': i, 'end_index': loc_end}\n",
        "\n",
        "            cycle = np.floor(location_begin / 90 / 60 / original_sampling)\n",
        "            #params = (patient_id, week, night_id, cycle)\n",
        "            #query = \"SELECT count,type from week_summary WHERE (patient_id=? AND week=? AND night_id=? AND cycle=?)\"\n",
        "            #cur.execute(query, params)\n",
        "            #count = cur.fetchall()\n",
        "\n",
        "            if count:\n",
        "                # print(count[0][0])\n",
        "                if cycle < cycle_num/2:\n",
        "                    type_ind = 0\n",
        "                else:\n",
        "                    type_ind = count[0][1] + 1\n",
        "                params = (count[0][0]+1, type_ind, patient_id, week, night_id, cycle)\n",
        "                query = \"UPDATE week_summary SET count = ?, type = ? WHERE (patient_id=? AND week=? AND night_id=? AND cycle=?)\"\n",
        "                cur.execute(query, params)\n",
        "            else:\n",
        "                if cycle < cycle_num/2:\n",
        "                    type_ind = 0\n",
        "                else:\n",
        "                    type_ind = 1\n",
        "                params = (patient_id, week, night_id, cycle, cycle_num, 1, type_ind)\n",
        "                query = \"INSERT INTO week_summary (patient_id, week, night_id, cycle, max_cycle, count, type) VALUES (?, ?, ?, ?, ?, ?, ?)\"\n",
        "                cur.execute(query, params)\n",
        "            print(\"current end idx:\", location_end)\n",
        "\n",
        "        elif(y_p_mix[-1] == 10):\n",
        "            loc_end += cnt-1\n",
        "            #params = (index[loc_end], loc_end, patient_id, week, night_id, recorder, event)\n",
        "            #query = \"UPDATE predicted_labels SET location_end = ?, end_index = ? WHERE (patient_id=? AND week=? AND night_id=? AND recorder=? AND label_id=?)\"\n",
        "            #cur.execute(query, params)\n",
        "            predicted_labels[event].update({'location_end': index[loc_end], 'end_index': loc_end})\n",
        "            print(\"update end:\", loc_end)\n",
        "            print(\"update end idx:\", index[loc_end])\n",
        "        y_p_mix.extend([10]*cnt);\n",
        "    else:\n",
        "        loc_start = 0\n",
        "        y_p_mix.extend([0]*cnt);\n",
        "    i += cnt;\n",
        "    # print(i)\n",
        "# print(event)\n",
        "#params = (patient_id, week, night_id, recorder)\n",
        "#query = \"SELECT DISTINCT * from predicted_labels WHERE (patient_id=? AND week=? AND night_id=? AND recorder=?)\"\n",
        "#labels = cur.execute(query, params).fetchall()\n",
        "#return labels\n",
        "\"\"\"\n"
      ]
    }
  ],
  "metadata": {
    "colab": {
      "provenance": []
    },
    "kernelspec": {
      "display_name": "Python 3",
      "name": "python3"
    },
    "language_info": {
      "codemirror_mode": {
        "name": "ipython",
        "version": 3
      },
      "file_extension": ".py",
      "mimetype": "text/x-python",
      "name": "python",
      "nbconvert_exporter": "python",
      "pygments_lexer": "ipython3",
      "version": "3.11.4"
    }
  },
  "nbformat": 4,
  "nbformat_minor": 0
}
