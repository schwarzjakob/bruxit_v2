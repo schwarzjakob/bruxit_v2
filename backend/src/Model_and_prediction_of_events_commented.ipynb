{
  "cells": [
    {
      "cell_type": "code",
      "execution_count": 1,
      "metadata": {
        "colab": {
          "base_uri": "https://localhost:8080/"
        },
        "id": "KTS-cHm9Cg6K",
        "outputId": "6043b820-dfdd-431f-e7c9-15c870c2b82b"
      },
      "outputs": [
        {
          "name": "stdout",
          "output_type": "stream",
          "text": [
            "Requirement already satisfied: pandas in /usr/local/lib/python3.10/dist-packages (2.1.4)\n",
            "Requirement already satisfied: numpy<2,>=1.22.4 in /usr/local/lib/python3.10/dist-packages (from pandas) (1.26.4)\n",
            "Requirement already satisfied: python-dateutil>=2.8.2 in /usr/local/lib/python3.10/dist-packages (from pandas) (2.8.2)\n",
            "Requirement already satisfied: pytz>=2020.1 in /usr/local/lib/python3.10/dist-packages (from pandas) (2024.1)\n",
            "Requirement already satisfied: tzdata>=2022.1 in /usr/local/lib/python3.10/dist-packages (from pandas) (2024.1)\n",
            "Requirement already satisfied: six>=1.5 in /usr/local/lib/python3.10/dist-packages (from python-dateutil>=2.8.2->pandas) (1.16.0)\n",
            "Requirement already satisfied: xgboost in /usr/local/lib/python3.10/dist-packages (2.1.0)\n",
            "Requirement already satisfied: numpy in /usr/local/lib/python3.10/dist-packages (from xgboost) (1.26.4)\n",
            "Collecting nvidia-nccl-cu12 (from xgboost)\n",
            "  Downloading nvidia_nccl_cu12-2.22.3-py3-none-manylinux2014_x86_64.whl.metadata (1.8 kB)\n",
            "Requirement already satisfied: scipy in /usr/local/lib/python3.10/dist-packages (from xgboost) (1.13.1)\n",
            "Downloading nvidia_nccl_cu12-2.22.3-py3-none-manylinux2014_x86_64.whl (190.9 MB)\n",
            "\u001b[2K   \u001b[90m━━━━━━━━━━━━━━━━━━━━━━━━━━━━━━━━━━━━━━━━\u001b[0m \u001b[32m190.9/190.9 MB\u001b[0m \u001b[31m4.8 MB/s\u001b[0m eta \u001b[36m0:00:00\u001b[0m\n",
            "\u001b[?25hInstalling collected packages: nvidia-nccl-cu12\n",
            "\u001b[31mERROR: pip's dependency resolver does not currently take into account all the packages that are installed. This behaviour is the source of the following dependency conflicts.\n",
            "torch 2.3.1+cu121 requires nvidia-cublas-cu12==12.1.3.1; platform_system == \"Linux\" and platform_machine == \"x86_64\", which is not installed.\n",
            "torch 2.3.1+cu121 requires nvidia-cuda-cupti-cu12==12.1.105; platform_system == \"Linux\" and platform_machine == \"x86_64\", which is not installed.\n",
            "torch 2.3.1+cu121 requires nvidia-cuda-nvrtc-cu12==12.1.105; platform_system == \"Linux\" and platform_machine == \"x86_64\", which is not installed.\n",
            "torch 2.3.1+cu121 requires nvidia-cuda-runtime-cu12==12.1.105; platform_system == \"Linux\" and platform_machine == \"x86_64\", which is not installed.\n",
            "torch 2.3.1+cu121 requires nvidia-cudnn-cu12==8.9.2.26; platform_system == \"Linux\" and platform_machine == \"x86_64\", which is not installed.\n",
            "torch 2.3.1+cu121 requires nvidia-cufft-cu12==11.0.2.54; platform_system == \"Linux\" and platform_machine == \"x86_64\", which is not installed.\n",
            "torch 2.3.1+cu121 requires nvidia-curand-cu12==10.3.2.106; platform_system == \"Linux\" and platform_machine == \"x86_64\", which is not installed.\n",
            "torch 2.3.1+cu121 requires nvidia-cusolver-cu12==11.4.5.107; platform_system == \"Linux\" and platform_machine == \"x86_64\", which is not installed.\n",
            "torch 2.3.1+cu121 requires nvidia-cusparse-cu12==12.1.0.106; platform_system == \"Linux\" and platform_machine == \"x86_64\", which is not installed.\n",
            "torch 2.3.1+cu121 requires nvidia-nvtx-cu12==12.1.105; platform_system == \"Linux\" and platform_machine == \"x86_64\", which is not installed.\n",
            "torch 2.3.1+cu121 requires nvidia-nccl-cu12==2.20.5; platform_system == \"Linux\" and platform_machine == \"x86_64\", but you have nvidia-nccl-cu12 2.22.3 which is incompatible.\u001b[0m\u001b[31m\n",
            "\u001b[0mSuccessfully installed nvidia-nccl-cu12-2.22.3\n",
            "Collecting neurokit2\n",
            "  Downloading neurokit2-0.2.9-py2.py3-none-any.whl.metadata (37 kB)\n",
            "Requirement already satisfied: requests in /usr/local/lib/python3.10/dist-packages (from neurokit2) (2.31.0)\n",
            "Requirement already satisfied: numpy in /usr/local/lib/python3.10/dist-packages (from neurokit2) (1.26.4)\n",
            "Requirement already satisfied: pandas in /usr/local/lib/python3.10/dist-packages (from neurokit2) (2.1.4)\n",
            "Requirement already satisfied: scipy in /usr/local/lib/python3.10/dist-packages (from neurokit2) (1.13.1)\n",
            "Requirement already satisfied: scikit-learn>=1.0.0 in /usr/local/lib/python3.10/dist-packages (from neurokit2) (1.3.2)\n",
            "Requirement already satisfied: matplotlib in /usr/local/lib/python3.10/dist-packages (from neurokit2) (3.7.1)\n",
            "Requirement already satisfied: joblib>=1.1.1 in /usr/local/lib/python3.10/dist-packages (from scikit-learn>=1.0.0->neurokit2) (1.4.2)\n",
            "Requirement already satisfied: threadpoolctl>=2.0.0 in /usr/local/lib/python3.10/dist-packages (from scikit-learn>=1.0.0->neurokit2) (3.5.0)\n",
            "Requirement already satisfied: contourpy>=1.0.1 in /usr/local/lib/python3.10/dist-packages (from matplotlib->neurokit2) (1.2.1)\n",
            "Requirement already satisfied: cycler>=0.10 in /usr/local/lib/python3.10/dist-packages (from matplotlib->neurokit2) (0.12.1)\n",
            "Requirement already satisfied: fonttools>=4.22.0 in /usr/local/lib/python3.10/dist-packages (from matplotlib->neurokit2) (4.53.1)\n",
            "Requirement already satisfied: kiwisolver>=1.0.1 in /usr/local/lib/python3.10/dist-packages (from matplotlib->neurokit2) (1.4.5)\n",
            "Requirement already satisfied: packaging>=20.0 in /usr/local/lib/python3.10/dist-packages (from matplotlib->neurokit2) (24.1)\n",
            "Requirement already satisfied: pillow>=6.2.0 in /usr/local/lib/python3.10/dist-packages (from matplotlib->neurokit2) (9.4.0)\n",
            "Requirement already satisfied: pyparsing>=2.3.1 in /usr/local/lib/python3.10/dist-packages (from matplotlib->neurokit2) (3.1.2)\n",
            "Requirement already satisfied: python-dateutil>=2.7 in /usr/local/lib/python3.10/dist-packages (from matplotlib->neurokit2) (2.8.2)\n",
            "Requirement already satisfied: pytz>=2020.1 in /usr/local/lib/python3.10/dist-packages (from pandas->neurokit2) (2024.1)\n",
            "Requirement already satisfied: tzdata>=2022.1 in /usr/local/lib/python3.10/dist-packages (from pandas->neurokit2) (2024.1)\n",
            "Requirement already satisfied: charset-normalizer<4,>=2 in /usr/local/lib/python3.10/dist-packages (from requests->neurokit2) (3.3.2)\n",
            "Requirement already satisfied: idna<4,>=2.5 in /usr/local/lib/python3.10/dist-packages (from requests->neurokit2) (3.7)\n",
            "Requirement already satisfied: urllib3<3,>=1.21.1 in /usr/local/lib/python3.10/dist-packages (from requests->neurokit2) (2.0.7)\n",
            "Requirement already satisfied: certifi>=2017.4.17 in /usr/local/lib/python3.10/dist-packages (from requests->neurokit2) (2024.7.4)\n",
            "Requirement already satisfied: six>=1.5 in /usr/local/lib/python3.10/dist-packages (from python-dateutil>=2.7->matplotlib->neurokit2) (1.16.0)\n",
            "Downloading neurokit2-0.2.9-py2.py3-none-any.whl (689 kB)\n",
            "\u001b[2K   \u001b[90m━━━━━━━━━━━━━━━━━━━━━━━━━━━━━━━━━━━━━━━━\u001b[0m \u001b[32m689.2/689.2 kB\u001b[0m \u001b[31m17.7 MB/s\u001b[0m eta \u001b[36m0:00:00\u001b[0m\n",
            "\u001b[?25hInstalling collected packages: neurokit2\n",
            "Successfully installed neurokit2-0.2.9\n",
            "Requirement already satisfied: polars in /usr/local/lib/python3.10/dist-packages (0.20.2)\n",
            "Requirement already satisfied: scikit-learn in /usr/local/lib/python3.10/dist-packages (1.3.2)\n",
            "Collecting scikit-learn\n",
            "  Downloading scikit_learn-1.5.1-cp310-cp310-manylinux_2_17_x86_64.manylinux2014_x86_64.whl.metadata (12 kB)\n",
            "Requirement already satisfied: numpy>=1.19.5 in /usr/local/lib/python3.10/dist-packages (from scikit-learn) (1.26.4)\n",
            "Requirement already satisfied: scipy>=1.6.0 in /usr/local/lib/python3.10/dist-packages (from scikit-learn) (1.13.1)\n",
            "Requirement already satisfied: joblib>=1.2.0 in /usr/local/lib/python3.10/dist-packages (from scikit-learn) (1.4.2)\n",
            "Requirement already satisfied: threadpoolctl>=3.1.0 in /usr/local/lib/python3.10/dist-packages (from scikit-learn) (3.5.0)\n",
            "Downloading scikit_learn-1.5.1-cp310-cp310-manylinux_2_17_x86_64.manylinux2014_x86_64.whl (13.4 MB)\n",
            "\u001b[2K   \u001b[90m━━━━━━━━━━━━━━━━━━━━━━━━━━━━━━━━━━━━━━━━\u001b[0m \u001b[32m13.4/13.4 MB\u001b[0m \u001b[31m81.3 MB/s\u001b[0m eta \u001b[36m0:00:00\u001b[0m\n",
            "\u001b[?25hInstalling collected packages: scikit-learn\n",
            "  Attempting uninstall: scikit-learn\n",
            "    Found existing installation: scikit-learn 1.3.2\n",
            "    Uninstalling scikit-learn-1.3.2:\n",
            "      Successfully uninstalled scikit-learn-1.3.2\n",
            "Successfully installed scikit-learn-1.5.1\n"
          ]
        }
      ],
      "source": [
        "!pip install pandas\n",
        "!pip install xgboost\n",
        "!pip install neurokit2\n",
        "!pip install polars\n",
        "!pip install -U scikit-learn"
      ]
    },
    {
      "cell_type": "code",
      "execution_count": 3,
      "metadata": {
        "id": "EgJMhsLURP0g"
      },
      "outputs": [],
      "source": [
        "import numpy as np\n",
        "import pandas as pd\n",
        "import xgboost as xgb\n",
        "import neurokit2 as nk\n",
        "import polars as pl\n",
        "from sklearn.metrics import (accuracy_score, confusion_matrix, f1_score,\n",
        "                             make_scorer, precision_score, recall_score)\n",
        "from sklearn.model_selection import train_test_split\n",
        "from sklearn.preprocessing import StandardScaler\n",
        "from sklearn.tree import DecisionTreeClassifier as DTC\n",
        "import os\n"
      ]
    },
    {
      "cell_type": "code",
      "execution_count": 4,
      "metadata": {
        "colab": {
          "base_uri": "https://localhost:8080/"
        },
        "id": "L53vFNxFRS2b",
        "outputId": "cc4bf8b1-322c-4250-e403-f8a6df7287c0"
      },
      "outputs": [
        {
          "name": "stdout",
          "output_type": "stream",
          "text": [
            "predict_events\n"
          ]
        }
      ],
      "source": [
        "print(\"predict_events\")\n",
        "# Define sampling rates\n",
        "original_sampling = 2000\n",
        "selected_sampling = 1000\n",
        "\n",
        "# Open dataset\n",
        "data = pl.read_csv('C:/Users/eleon/Desktop/SDAP/backend/src/data/p2_wk1-2/0204451eFnorm.csv', columns=['MR', 'ML'])\n",
        "loc = pl.read_csv('C:/Users/eleon/Desktop/SDAP/backend/src/data/p2_wk1-2/0204451elocation_Bites.csv')\n",
        "\n",
        "# Get number of sleep cycles (in this case 6)\n",
        "cycle_num = int(np.ceil(data.shape[0] / original_sampling / 90 / 60))\n",
        "\n",
        "# Selected 5 min intervals in the sleep stage detection phase\n",
        "selected = [{\"start_id\": 600000, \"end_id\": 1200000},\n",
        "            {\"start_id\": 12000000, \"end_id\": 12600000},\n",
        "            {\"start_id\": 12600000, \"end_id\": 13200000},\n",
        "            {\"start_id\": 13800000, \"end_id\": 14400000},\n",
        "            {\"start_id\": 19800000, \"end_id\": 20400000},\n",
        "            {\"start_id\": 22800000, \"end_id\": 23400000},\n",
        "            {\"start_id\": 24000000, \"end_id\": 24600000},\n",
        "            {\"start_id\": 36600000, \"end_id\": 37200000},\n",
        "            {\"start_id\": 40800000, \"end_id\": 41400000}]\n",
        "\n"
      ]
    },
    {
      "cell_type": "markdown",
      "metadata": {
        "id": "uMJDRdlmnMts"
      },
      "source": [
        "# GENERATE MODEL"
      ]
    },
    {
      "cell_type": "code",
      "execution_count": 5,
      "metadata": {
        "colab": {
          "base_uri": "https://localhost:8080/",
          "height": 140
        },
        "id": "sGfm7ALwnJse",
        "outputId": "ab851ba5-e910-45cd-f2ad-67590eb8e8a0"
      },
      "outputs": [
        {
          "name": "stdout",
          "output_type": "stream",
          "text": [
            "generate_model\n",
            "label bites\n",
            "add bites\n",
            "fit model\n",
            "save model\n"
          ]
        },
        {
          "data": {
            "application/vnd.google.colaboratory.intrinsic+json": {
              "type": "string"
            },
            "text/plain": [
              "'\\n# Events predictions\\nlabels = predict_events(DATABASE, model, patient_id, week, night_id, recorder)\\n\\n# What happens if no predictions are there?\\n# TODO: check code: is this only on first time?\\nif (not labels) or (len(labels) < 1):\\n    with sql.connect(DATABASE) as con:\\n        cur = con.cursor()\\n        params = (patient_id)\\n        query = \"DELETE FROM models WHERE patient_id=?\"\\n        cur.execute(query, params)\\n        # cur.execute(f\"DELETE FROM models WHERE patient_id={patient_id}\")\\n        if gen_model:\\n            cur.execute(f\"DELETE FROM models WHERE patient_id=-1\")\\n'"
            ]
          },
          "execution_count": 5,
          "metadata": {},
          "output_type": "execute_result"
        }
      ],
      "source": [
        "print(\"generate_model\")\n",
        "\n",
        "range_min = 0\n",
        "\n",
        "# Last location end of the test biting\n",
        "range_max = int(float(loc[2,1]))\n",
        "\n",
        "# Create array of zeros of the size of the dataset\n",
        "bites = np.zeros(data.shape[0], dtype=int)\n",
        "print(\"label bites\")\n",
        "\n",
        "# Add ones where the test biting were performed\n",
        "for i in range(1, range_max):\n",
        "    if i < int(float(loc[0,0])) or (i > int(float(loc[0,1])) and i < int(float(loc[1,0]))) or (i > int(float(loc[1,1])) and i < int(float(loc[2,0]))) or i > int(float(loc[2,1])):\n",
        "        bites[i] = 0\n",
        "    else:\n",
        "        bites[i] = 1\n",
        "\n",
        "print(\"add bites\")\n",
        "MR = data['MR']\n",
        "ML = data['ML']\n",
        "\n",
        "# Resample signals\n",
        "MR_resampled = nk.signal_resample(MR, sampling_rate=original_sampling, desired_sampling_rate=selected_sampling, method=\"pandas\")\n",
        "ML_resampled = nk.signal_resample(ML, sampling_rate=original_sampling, desired_sampling_rate=selected_sampling, method=\"pandas\")\n",
        "bites = nk.signal_resample(bites, sampling_rate=original_sampling, desired_sampling_rate=selected_sampling, method=\"pandas\")\n",
        "\n",
        "df = pl.DataFrame({'MR': MR_resampled, 'ML': ML_resampled, 'Bites': bites})\n",
        "\n",
        "# Data composed of MR and ML\n",
        "x = df[range_min:range_max,:2].clone()\n",
        "\n",
        "# Classifications composed from bites\n",
        "y = df[range_min:range_max,-1].clone()\n",
        "\n",
        "x = np.array(x)\n",
        "y = np.array(y)\n",
        "\n",
        "\n",
        "x_train, x_test, y_train, y_test = train_test_split(x, y, test_size=0.25, shuffle=False) # Split data for test and training\n",
        "SC = StandardScaler()\n",
        "\n",
        "# Scale features such that they have the properties of a standard normal distribution with a mean of zero and a standard deviation of one\n",
        "x_train = pd.DataFrame(SC.fit_transform(x_train))\n",
        "x_test = pd.DataFrame(SC.transform(x_test))\n",
        "\n",
        "\n",
        "# Fit model\n",
        "print(\"fit model\")\n",
        "model = xgb.XGBClassifier(n_estimators=100, objective='binary:logistic',\n",
        "    eval_metric='logloss', subsample=0.6, max_depth=3, learning_rate=0.1, colsample_bytree=1.0)\n",
        "model.fit(x_train, y_train)\n",
        "\n",
        "\n",
        "print(\"save model\")\n",
        "gen_model = False\n",
        "\n",
        "# TODO: Insert model info into DB and saves it\n",
        "model.save_model(\"/content/drive/My Drive/p2_model.json\")\n",
        "\n",
        "\n",
        "# TODO: check if general model exist in DB\n",
        "general_model = os.path.exists('/content/drive/My Drive/general_model.json')\n",
        "\n",
        "if not general_model:\n",
        "    # TODO: insert general model into DB\n",
        "\n",
        "    # Why same model variable? Shouldn't they be 2 different models??\n",
        "    model.save_model('/content/drive/My Drive/general_model.json')\n",
        "    gen_model = True\n",
        "\n",
        "\"\"\"\n",
        "# Events predictions\n",
        "labels = predict_events(DATABASE, model, patient_id, week, night_id, recorder)\n",
        "\n",
        "# What happens if no predictions are there?\n",
        "# TODO: check code: is this only on first time?\n",
        "if (not labels) or (len(labels) < 1):\n",
        "    with sql.connect(DATABASE) as con:\n",
        "        cur = con.cursor()\n",
        "        params = (patient_id)\n",
        "        query = \"DELETE FROM models WHERE patient_id=?\"\n",
        "        cur.execute(query, params)\n",
        "        # cur.execute(f\"DELETE FROM models WHERE patient_id={patient_id}\")\n",
        "        if gen_model:\n",
        "            cur.execute(f\"DELETE FROM models WHERE patient_id=-1\")\n",
        "\"\"\"\n"
      ]
    },
    {
      "cell_type": "markdown",
      "metadata": {
        "id": "7mWNwGRdnKcv"
      },
      "source": [
        "#PREDICT EVENTS"
      ]
    },
    {
      "cell_type": "code",
      "execution_count": 6,
      "metadata": {
        "colab": {
          "base_uri": "https://localhost:8080/"
        },
        "id": "7AwUNBUVTqZq",
        "outputId": "37a467c0-e0ee-497b-e0fa-4cc511fbb68f"
      },
      "outputs": [
        {
          "name": "stdout",
          "output_type": "stream",
          "text": [
            "5400000\n",
            "shape: (5_400_000, 2)\n",
            "┌───────────┬──────────┐\n",
            "│ MR        ┆ ML       │\n",
            "│ ---       ┆ ---      │\n",
            "│ f64       ┆ f64      │\n",
            "╞═══════════╪══════════╡\n",
            "│ -2.3222   ┆ -2.8358  │\n",
            "│ -1.6936   ┆ -2.4757  │\n",
            "│ -0.95283  ┆ -1.9747  │\n",
            "│ -0.24272  ┆ -1.419   │\n",
            "│ …         ┆ …        │\n",
            "│ -0.023149 ┆ 0.063727 │\n",
            "│ 0.0041987 ┆ 0.081505 │\n",
            "│ 0.0094327 ┆ 0.068084 │\n",
            "│ -0.006336 ┆ 0.043006 │\n",
            "└───────────┴──────────┘\n"
          ]
        }
      ],
      "source": [
        "# Create new dataframe to locate and add all the selected phases with the indexes\n",
        "index = [i for i in range(5*original_sampling*60 * len(selected))]\n",
        "\n",
        "print(len(index))\n",
        "\n",
        "\n",
        "df = pl.DataFrame()\n",
        "for i in range(len(selected)):\n",
        "    #print(data[selected[i]['start_id']:selected[i]['end_id'],:])\n",
        "    df = pl.concat([df, data[selected[i]['start_id']:selected[i]['end_id'],:]])\n",
        "#index = df.index\n",
        "\n",
        "print(df)\n",
        "#print(index)"
      ]
    },
    {
      "cell_type": "code",
      "execution_count": 7,
      "metadata": {
        "id": "cZEjtYS6R_pk"
      },
      "outputs": [],
      "source": [
        "MR = nk.signal_resample(df.get_column(\"MR\"), sampling_rate=original_sampling, desired_sampling_rate=selected_sampling, method=\"pandas\")\n",
        "ML = nk.signal_resample(df.get_column(\"ML\"), sampling_rate=original_sampling, desired_sampling_rate=selected_sampling, method=\"pandas\")\n",
        "df_resampled = pl.DataFrame({'MR': MR, 'ML': ML})\n",
        "\n",
        "index_resampled = nk.signal_resample(index, sampling_rate=original_sampling, desired_sampling_rate=selected_sampling, method=\"pandas\")"
      ]
    },
    {
      "cell_type": "code",
      "execution_count": 8,
      "metadata": {
        "colab": {
          "base_uri": "https://localhost:8080/"
        },
        "id": "LgcKv3sTZbrl",
        "outputId": "929f622b-423f-4f84-84d7-f6ca8e64dd1c"
      },
      "outputs": [
        {
          "data": {
            "text/plain": [
              "True"
            ]
          },
          "execution_count": 8,
          "metadata": {},
          "output_type": "execute_result"
        }
      ],
      "source": [
        "len(index_resampled) == df_resampled['MR'].count()"
      ]
    },
    {
      "cell_type": "code",
      "execution_count": 9,
      "metadata": {
        "colab": {
          "base_uri": "https://localhost:8080/"
        },
        "id": "5uiEPl71Zt-a",
        "outputId": "be2f5f9d-f2b6-4775-bd7a-2827a66485be"
      },
      "outputs": [
        {
          "data": {
            "text/plain": [
              "(2700000, 2)"
            ]
          },
          "execution_count": 9,
          "metadata": {},
          "output_type": "execute_result"
        }
      ],
      "source": [
        "np.array(df_resampled[:,:2].clone().rows()).shape"
      ]
    },
    {
      "cell_type": "code",
      "execution_count": 10,
      "metadata": {
        "id": "KUSwD4Wr2FQ_"
      },
      "outputs": [],
      "source": [
        "x = df_resampled[:,:2].clone()\n",
        "x_p = np.array(x.rows())\n",
        "y_p = model.predict(x_p)\n",
        "y_p_mix = []"
      ]
    },
    {
      "cell_type": "code",
      "execution_count": 11,
      "metadata": {
        "colab": {
          "base_uri": "https://localhost:8080/"
        },
        "id": "a7oVMaWf3h0Z",
        "outputId": "1de0b87b-01f4-4253-e61f-34bd2914b8a3"
      },
      "outputs": [
        {
          "data": {
            "text/plain": [
              "2700000"
            ]
          },
          "execution_count": 11,
          "metadata": {},
          "output_type": "execute_result"
        }
      ],
      "source": [
        "len(x_p)"
      ]
    },
    {
      "cell_type": "markdown",
      "metadata": {
        "id": "X13n_tTQOLpK"
      },
      "source": [
        "# ELEONORA CODE"
      ]
    },
    {
      "cell_type": "code",
      "execution_count": 28,
      "metadata": {
        "id": "RY2VdpeRCeZQ"
      },
      "outputs": [],
      "source": [
        "predicted_events = []\n",
        "start = 0\n",
        "end = 0\n",
        "first = True\n",
        "for i in range(len(y_p)):\n",
        "    if i == len(y_p)-1 and y_p[i] == 1 and y_p[i-1] == 1:\n",
        "        #print(\"last number is 1 with 1 as precedent\")\n",
        "        end = i\n",
        "\n",
        "        duration_s = (end-start)/selected_sampling\n",
        "        if duration_s >= 0.25:\n",
        "            predicted_events.append({'location_begin': start, 'location_end': end, 'duration_s': (end-start)*selected_sampling*60})\n",
        "\n",
        "    if i == len(y_p)-1 and y_p[i] == 1 and y_p[i-1] == 0:\n",
        "        break\n",
        "\n",
        "    if i == len(y_p)-1 and y_p[i] == 0:\n",
        "        break\n",
        "\n",
        "    if y_p[i] == 1 and first == True:\n",
        "        #print(\"number is the first one: start event\")\n",
        "        start = i\n",
        "        first = False\n",
        "\n",
        "    if y_p[i+1] == 1:\n",
        "       # print(\"next number is one as well, continue\")\n",
        "        continue\n",
        "\n",
        "    if y_p[i] == 1 and first == False and y_p[i+1] == 0:\n",
        "        #print(\"next number is 0, current number is 1: end event\")\n",
        "        end = i\n",
        "\n",
        "        duration_s = (end-start)/selected_sampling\n",
        "        if duration_s >= 0.25:\n",
        "            predicted_events.append({'location_begin': start, 'location_end': end, 'duration_s': duration_s})\n",
        "        first = True\n",
        "\n",
        "    if y_p[i] == 0:\n",
        "        #print(\"number is 0\")\n",
        "        continue\n",
        "\n",
        "\n"
      ]
    },
    {
      "cell_type": "code",
      "execution_count": 29,
      "metadata": {
        "colab": {
          "base_uri": "https://localhost:8080/"
        },
        "id": "26WGxAjxF-pr",
        "outputId": "512ed5c2-71a1-4b40-d309-a17b49b67487"
      },
      "outputs": [
        {
          "data": {
            "text/plain": [
              "[{'location_begin': 300084, 'location_end': 300681, 'duration_s': 0.597},\n",
              " {'location_begin': 301523, 'location_end': 302180, 'duration_s': 0.657},\n",
              " {'location_begin': 303122, 'location_end': 303759, 'duration_s': 0.637},\n",
              " {'location_begin': 304721, 'location_end': 305438, 'duration_s': 0.717},\n",
              " {'location_begin': 306440, 'location_end': 307138, 'duration_s': 0.698},\n",
              " {'location_begin': 308239, 'location_end': 308937, 'duration_s': 0.698},\n",
              " {'location_begin': 309938, 'location_end': 310575, 'duration_s': 0.637},\n",
              " {'location_begin': 311317, 'location_end': 311914, 'duration_s': 0.597},\n",
              " {'location_begin': 312816, 'location_end': 313453, 'duration_s': 0.637},\n",
              " {'location_begin': 314195, 'location_end': 314832, 'duration_s': 0.637},\n",
              " {'location_begin': 315594, 'location_end': 316271, 'duration_s': 0.677},\n",
              " {'location_begin': 317153, 'location_end': 317870, 'duration_s': 0.717},\n",
              " {'location_begin': 318752, 'location_end': 319469, 'duration_s': 0.717},\n",
              " {'location_begin': 320291, 'location_end': 320948, 'duration_s': 0.657},\n",
              " {'location_begin': 321790, 'location_end': 322547, 'duration_s': 0.757},\n",
              " {'location_begin': 323429, 'location_end': 324126, 'duration_s': 0.697},\n",
              " {'location_begin': 324828, 'location_end': 325605, 'duration_s': 0.777},\n",
              " {'location_begin': 326467, 'location_end': 327264, 'duration_s': 0.797},\n",
              " {'location_begin': 328206, 'location_end': 329023, 'duration_s': 0.817},\n",
              " {'location_begin': 330045, 'location_end': 330942, 'duration_s': 0.897},\n",
              " {'location_begin': 331804, 'location_end': 332601, 'duration_s': 0.797},\n",
              " {'location_begin': 333363, 'location_end': 334120, 'duration_s': 0.757},\n",
              " {'location_begin': 334942, 'location_end': 335659, 'duration_s': 0.717},\n",
              " {'location_begin': 336421, 'location_end': 337098, 'duration_s': 0.677},\n",
              " {'location_begin': 337800, 'location_end': 338437, 'duration_s': 0.637},\n",
              " {'location_begin': 339119, 'location_end': 339836, 'duration_s': 0.717},\n",
              " {'location_begin': 340558, 'location_end': 341195, 'duration_s': 0.637},\n",
              " {'location_begin': 341997, 'location_end': 342674, 'duration_s': 0.677},\n",
              " {'location_begin': 343476, 'location_end': 344313, 'duration_s': 0.837},\n",
              " {'location_begin': 345315, 'location_end': 346192, 'duration_s': 0.877},\n",
              " {'location_begin': 347234, 'location_end': 348071, 'duration_s': 0.837},\n",
              " {'location_begin': 348973, 'location_end': 349990, 'duration_s': 1.017},\n",
              " {'location_begin': 351052, 'location_end': 352149, 'duration_s': 1.097},\n",
              " {'location_begin': 353091, 'location_end': 354168, 'duration_s': 1.077},\n",
              " {'location_begin': 355210, 'location_end': 356547, 'duration_s': 1.337},\n",
              " {'location_begin': 357829, 'location_end': 359246, 'duration_s': 1.417},\n",
              " {'location_begin': 360848, 'location_end': 362025, 'duration_s': 1.177},\n",
              " {'location_begin': 363427, 'location_end': 364804, 'duration_s': 1.377},\n",
              " {'location_begin': 366646, 'location_end': 368703, 'duration_s': 2.057},\n",
              " {'location_begin': 379545, 'location_end': 382642, 'duration_s': 3.097},\n",
              " {'location_begin': 386044, 'location_end': 394621, 'duration_s': 8.577},\n",
              " {'location_begin': 397563, 'location_end': 400880, 'duration_s': 3.317},\n",
              " {'location_begin': 404422, 'location_end': 407739, 'duration_s': 3.317},\n",
              " {'location_begin': 410201, 'location_end': 412078, 'duration_s': 1.877},\n",
              " {'location_begin': 413440, 'location_end': 415277, 'duration_s': 1.837},\n",
              " {'location_begin': 416559, 'location_end': 418296, 'duration_s': 1.737},\n",
              " {'location_begin': 419478, 'location_end': 420735, 'duration_s': 1.257},\n",
              " {'location_begin': 421717, 'location_end': 423054, 'duration_s': 1.337},\n",
              " {'location_begin': 424076, 'location_end': 425553, 'duration_s': 1.477},\n",
              " {'location_begin': 427135, 'location_end': 429872, 'duration_s': 2.737},\n",
              " {'location_begin': 432254, 'location_end': 438911, 'duration_s': 6.657},\n",
              " {'location_begin': 440573, 'location_end': 442870, 'duration_s': 2.297},\n",
              " {'location_begin': 443952, 'location_end': 445509, 'duration_s': 1.557},\n",
              " {'location_begin': 446411, 'location_end': 447768, 'duration_s': 1.357},\n",
              " {'location_begin': 448490, 'location_end': 449427, 'duration_s': 0.937},\n",
              " {'location_begin': 450009, 'location_end': 450906, 'duration_s': 0.897},\n",
              " {'location_begin': 451488, 'location_end': 452325, 'duration_s': 0.837},\n",
              " {'location_begin': 452867, 'location_end': 453644, 'duration_s': 0.777},\n",
              " {'location_begin': 454126, 'location_end': 454923, 'duration_s': 0.797},\n",
              " {'location_begin': 455385, 'location_end': 456262, 'duration_s': 0.877},\n",
              " {'location_begin': 456804, 'location_end': 457821, 'duration_s': 1.017},\n",
              " {'location_begin': 458403, 'location_end': 459400, 'duration_s': 0.997},\n",
              " {'location_begin': 460042, 'location_end': 461179, 'duration_s': 1.137},\n",
              " {'location_begin': 461981, 'location_end': 463258, 'duration_s': 1.277},\n",
              " {'location_begin': 463920, 'location_end': 465097, 'duration_s': 1.177},\n",
              " {'location_begin': 465939, 'location_end': 467076, 'duration_s': 1.137},\n",
              " {'location_begin': 467758, 'location_end': 468895, 'duration_s': 1.137},\n",
              " {'location_begin': 469577, 'location_end': 470814, 'duration_s': 1.237},\n",
              " {'location_begin': 471476, 'location_end': 473193, 'duration_s': 1.717},\n",
              " {'location_begin': 474175, 'location_end': 476132, 'duration_s': 1.957},\n",
              " {'location_begin': 477594, 'location_end': 479131, 'duration_s': 1.537},\n",
              " {'location_begin': 480033, 'location_end': 481190, 'duration_s': 1.157},\n",
              " {'location_begin': 481832, 'location_end': 482769, 'duration_s': 0.937},\n",
              " {'location_begin': 483311, 'location_end': 484208, 'duration_s': 0.897},\n",
              " {'location_begin': 484610, 'location_end': 485627, 'duration_s': 1.017},\n",
              " {'location_begin': 486049, 'location_end': 487006, 'duration_s': 0.957},\n",
              " {'location_begin': 487428, 'location_end': 488365, 'duration_s': 0.937},\n",
              " {'location_begin': 488847, 'location_end': 489704, 'duration_s': 0.857},\n",
              " {'location_begin': 490086, 'location_end': 491003, 'duration_s': 0.917},\n",
              " {'location_begin': 491425, 'location_end': 492162, 'duration_s': 0.737},\n",
              " {'location_begin': 492624, 'location_end': 493401, 'duration_s': 0.777},\n",
              " {'location_begin': 493883, 'location_end': 494660, 'duration_s': 0.777},\n",
              " {'location_begin': 495122, 'location_end': 495919, 'duration_s': 0.797},\n",
              " {'location_begin': 496281, 'location_end': 497218, 'duration_s': 0.937},\n",
              " {'location_begin': 497600, 'location_end': 498537, 'duration_s': 0.937},\n",
              " {'location_begin': 498939, 'location_end': 499996, 'duration_s': 1.057},\n",
              " {'location_begin': 500438, 'location_end': 501675, 'duration_s': 1.237},\n",
              " {'location_begin': 502237, 'location_end': 503554, 'duration_s': 1.317},\n",
              " {'location_begin': 504076, 'location_end': 505233, 'duration_s': 1.157},\n",
              " {'location_begin': 505655, 'location_end': 506652, 'duration_s': 0.997},\n",
              " {'location_begin': 507074, 'location_end': 508151, 'duration_s': 1.077},\n",
              " {'location_begin': 508593, 'location_end': 509710, 'duration_s': 1.117},\n",
              " {'location_begin': 510212, 'location_end': 511149, 'duration_s': 0.937},\n",
              " {'location_begin': 511651, 'location_end': 512648, 'duration_s': 0.997},\n",
              " {'location_begin': 513090, 'location_end': 514407, 'duration_s': 1.317},\n",
              " {'location_begin': 515109, 'location_end': 516466, 'duration_s': 1.357},\n",
              " {'location_begin': 517208, 'location_end': 519205, 'duration_s': 1.997},\n",
              " {'location_begin': 520307, 'location_end': 521984, 'duration_s': 1.677},\n",
              " {'location_begin': 522686, 'location_end': 524363, 'duration_s': 1.677},\n",
              " {'location_begin': 525485, 'location_end': 525743, 'duration_s': 0.258},\n",
              " {'location_begin': 525845, 'location_end': 526263, 'duration_s': 0.418},\n",
              " {'location_begin': 526265, 'location_end': 526782, 'duration_s': 0.517},\n",
              " {'location_begin': 527484, 'location_end': 529041, 'duration_s': 1.557},\n",
              " {'location_begin': 530163, 'location_end': 531580, 'duration_s': 1.417},\n",
              " {'location_begin': 533022, 'location_end': 535139, 'duration_s': 2.117},\n",
              " {'location_begin': 536341, 'location_end': 538998, 'duration_s': 2.657},\n",
              " {'location_begin': 540040, 'location_end': 540358, 'duration_s': 0.318},\n",
              " {'location_begin': 540360, 'location_end': 542157, 'duration_s': 1.797},\n",
              " {'location_begin': 542979, 'location_end': 544576, 'duration_s': 1.597},\n",
              " {'location_begin': 545078, 'location_end': 546375, 'duration_s': 1.297},\n",
              " {'location_begin': 546917, 'location_end': 548094, 'duration_s': 1.177},\n",
              " {'location_begin': 548556, 'location_end': 549793, 'duration_s': 1.237},\n",
              " {'location_begin': 550315, 'location_end': 551732, 'duration_s': 1.417},\n",
              " {'location_begin': 552294, 'location_end': 553711, 'duration_s': 1.417},\n",
              " {'location_begin': 554513, 'location_end': 555950, 'duration_s': 1.437},\n",
              " {'location_begin': 556652, 'location_end': 558309, 'duration_s': 1.657},\n",
              " {'location_begin': 558911, 'location_end': 560488, 'duration_s': 1.577},\n",
              " {'location_begin': 561190, 'location_end': 563227, 'duration_s': 2.037},\n",
              " {'location_begin': 564409, 'location_end': 567306, 'duration_s': 2.897},\n",
              " {'location_begin': 568508, 'location_end': 570885, 'duration_s': 2.377},\n",
              " {'location_begin': 571847, 'location_end': 575084, 'duration_s': 3.237},\n",
              " {'location_begin': 577326, 'location_end': 581623, 'duration_s': 4.297},\n",
              " {'location_begin': 582905, 'location_end': 585162, 'duration_s': 2.257},\n",
              " {'location_begin': 586124, 'location_end': 588341, 'duration_s': 2.217},\n",
              " {'location_begin': 589583, 'location_end': 592960, 'duration_s': 3.377},\n",
              " {'location_begin': 594402, 'location_end': 597439, 'duration_s': 3.037},\n",
              " {'location_begin': 598801, 'location_end': 605279, 'duration_s': 6.478},\n",
              " {'location_begin': 606541, 'location_end': 608480, 'duration_s': 1.939},\n",
              " {'location_begin': 609062, 'location_end': 610481, 'duration_s': 1.419},\n",
              " {'location_begin': 611103, 'location_end': 612562, 'duration_s': 1.459},\n",
              " {'location_begin': 613164, 'location_end': 614543, 'duration_s': 1.379},\n",
              " {'location_begin': 615025, 'location_end': 616344, 'duration_s': 1.319},\n",
              " {'location_begin': 617066, 'location_end': 618585, 'duration_s': 1.519},\n",
              " {'location_begin': 619147, 'location_end': 620546, 'duration_s': 1.399},\n",
              " {'location_begin': 621188, 'location_end': 623287, 'duration_s': 2.099},\n",
              " {'location_begin': 624089, 'location_end': 626088, 'duration_s': 1.999},\n",
              " {'location_begin': 626970, 'location_end': 628849, 'duration_s': 1.879},\n",
              " {'location_begin': 629471, 'location_end': 631030, 'duration_s': 1.559},\n",
              " {'location_begin': 631652, 'location_end': 632971, 'duration_s': 1.319},\n",
              " {'location_begin': 633493, 'location_end': 634652, 'duration_s': 1.159},\n",
              " {'location_begin': 635134, 'location_end': 636433, 'duration_s': 1.299},\n",
              " {'location_begin': 636975, 'location_end': 638294, 'duration_s': 1.319},\n",
              " {'location_begin': 638736, 'location_end': 639965, 'duration_s': 1.229},\n",
              " {'location_begin': 640337, 'location_end': 641556, 'duration_s': 1.219},\n",
              " {'location_begin': 641998, 'location_end': 643137, 'duration_s': 1.139},\n",
              " {'location_begin': 643599, 'location_end': 644718, 'duration_s': 1.119},\n",
              " {'location_begin': 645040, 'location_end': 646159, 'duration_s': 1.119},\n",
              " {'location_begin': 646521, 'location_end': 647530, 'duration_s': 1.009},\n",
              " {'location_begin': 647822, 'location_end': 648691, 'duration_s': 0.869},\n",
              " {'location_begin': 648943, 'location_end': 649782, 'duration_s': 0.839},\n",
              " {'location_begin': 650104, 'location_end': 651003, 'duration_s': 0.899},\n",
              " {'location_begin': 651265, 'location_end': 651864, 'duration_s': 0.599}]"
            ]
          },
          "execution_count": 29,
          "metadata": {},
          "output_type": "execute_result"
        }
      ],
      "source": [
        "predicted_events"
      ]
    },
    {
      "cell_type": "code",
      "execution_count": 30,
      "metadata": {
        "colab": {
          "base_uri": "https://localhost:8080/"
        },
        "id": "BLePYAnZ9wgC",
        "outputId": "0f70e7e6-bdf9-4df6-8872-29b4d39e6ff4"
      },
      "outputs": [
        {
          "data": {
            "text/plain": [
              "152"
            ]
          },
          "execution_count": 30,
          "metadata": {},
          "output_type": "execute_result"
        }
      ],
      "source": [
        "len(predicted_events)"
      ]
    },
    {
      "cell_type": "markdown",
      "metadata": {
        "id": "3lzHCcJDOUWS"
      },
      "source": [
        "# YIFAN CODE"
      ]
    },
    {
      "cell_type": "code",
      "execution_count": null,
      "metadata": {
        "id": "XJrwEaKjD0jm"
      },
      "outputs": [],
      "source": [
        "# Perform prediction on selected labels\n",
        "x = df_resampled[:,:2].clone()\n",
        "x_p = np.array(x.rows())\n",
        "y_p = model.predict(x_p)\n",
        "\n",
        "# What is y_p mix?\n",
        "y_p_mix = []\n",
        "i = 0\n",
        "event = 0\n",
        "loc_start = 0\n",
        "loc_end = 0\n",
        "\n",
        "predicted_labels = {}\n",
        "\n",
        "while i < len(y_p):\n",
        "    # What is y_sum?\n",
        "    y_sum = y_p[i];\n",
        "    cnt = 1;\n",
        "\n",
        "    # What are you looping in here?\n",
        "    for j in range(1, 5*selected_sampling+1):\n",
        "        # What check is performed here? Why 5*original_sampling?\n",
        "        if(i+j >= len(y_p) or ((index[i+j] - index[i])>5*original_sampling)):\n",
        "            #print(\"dur:\", cnt/selected_sampling)\n",
        "            break;\n",
        "        y_sum += y_p[i+j];\n",
        "        cnt += 1;\n",
        "\n",
        "    # What are you checking with this 0.6?\n",
        "    if y_sum/cnt >= 0.6:\n",
        "        # Same here: why 55*selected_sampling?\n",
        "        if(loc_start == 0 or loc_end-loc_start > 55*selected_sampling):\n",
        "            event += 1\n",
        "            loc_start = i\n",
        "            loc_end = i+cnt-1\n",
        "            location_begin = index[i]\n",
        "            location_end = index[loc_end]\n",
        "            # why are you saving location_begin and end, and start_index and end, which are the same?\n",
        "            predicted_labels[event] = {'location_begin': location_begin, 'location_end': location_end, 'start_index': i, 'end_index': loc_end}\n",
        "\n",
        "            cycle = np.floor(location_begin / 90 / 60 / original_sampling)\n",
        "\n",
        "        # What are you checking here? Why are you updating?\n",
        "        elif(y_p_mix[-1] == 10):\n",
        "            loc_end += cnt-1\n",
        "            predicted_labels[event].update({'location_end': index[loc_end], 'end_index': loc_end})\n",
        "            print(\"update end:\", loc_end)\n",
        "            print(\"update end idx:\", index[loc_end])\n",
        "        # What is this for?\n",
        "        y_p_mix.extend([10]*cnt)\n",
        "    else:\n",
        "        loc_start = 0\n",
        "        # Same here\n",
        "        y_p_mix.extend([0]*cnt)\n",
        "    i += cnt"
      ]
    },
    {
      "cell_type": "code",
      "execution_count": 37,
      "metadata": {
        "colab": {
          "base_uri": "https://localhost:8080/"
        },
        "id": "EX-ufnqDENuJ",
        "outputId": "ddcfe91a-1ce9-442e-e7b5-2306a0dc57a3"
      },
      "outputs": [
        {
          "data": {
            "text/plain": [
              "{1: {'location_begin': 300060,\n",
              "  'location_end': 360060,\n",
              "  'start_index': 300060,\n",
              "  'end_index': 360060},\n",
              " 2: {'location_begin': 360072,\n",
              "  'location_end': 420072,\n",
              "  'start_index': 360072,\n",
              "  'end_index': 420072},\n",
              " 3: {'location_begin': 420084,\n",
              "  'location_end': 480084,\n",
              "  'start_index': 420084,\n",
              "  'end_index': 480084},\n",
              " 4: {'location_begin': 480096,\n",
              "  'location_end': 540096,\n",
              "  'start_index': 480096,\n",
              "  'end_index': 540096},\n",
              " 5: {'location_begin': 540108,\n",
              "  'location_end': 600108,\n",
              "  'start_index': 540108,\n",
              "  'end_index': 600108},\n",
              " 6: {'location_begin': 600120,\n",
              "  'location_end': 655120,\n",
              "  'start_index': 600120,\n",
              "  'end_index': 655120},\n",
              " 7: {'location_begin': 660132,\n",
              "  'location_end': 670132,\n",
              "  'start_index': 660132,\n",
              "  'end_index': 670132},\n",
              " 8: {'location_begin': 880176,\n",
              "  'location_end': 890176,\n",
              "  'start_index': 880176,\n",
              "  'end_index': 890176}}"
            ]
          },
          "execution_count": 37,
          "metadata": {},
          "output_type": "execute_result"
        }
      ],
      "source": [
        "predicted_labels"
      ]
    },
    {
      "cell_type": "code",
      "execution_count": 36,
      "metadata": {
        "colab": {
          "base_uri": "https://localhost:8080/",
          "height": 71
        },
        "id": "5qvjk8LcS4tv",
        "outputId": "5a3df1a1-4322-4e81-bbcf-d380f073bff1"
      },
      "outputs": [
        {
          "data": {
            "application/vnd.google.colaboratory.intrinsic+json": {
              "type": "string"
            },
            "text/plain": [
              "'\\n# Perform prediction on selected labels\\nx = df_resampled[:,:2].clone()\\nx_p = np.array(x.rows())\\ny_p = model.predict(x_p)\\n\\n\\ny_p_mix = []\\ni = 0\\nevent = 0\\nloc_start = 0\\nloc_end = 0\\n\\npredicted_labels = {}\\n\\nwhile i < len(y_p):\\n    y_sum = y_p[i];\\n    cnt = 1;\\n    for j in range(1, 5*selected_sampling+1):\\n        if i == 0:\\n            print(f\\'j :{j} i+j: {i+j}\\')\\n        if(i+j >= len(y_p) or ((index[i+j] - index[i])>5*original_sampling)):\\n            if i== 0:\\n                print(\"dur:\", cnt/selected_sampling)\\n            break;\\n        y_sum += y_p[i+j];\\n        cnt += 1;\\n    if y_sum/cnt >= 0.6:\\n        if(loc_start == 0 or loc_end-loc_start > 55*selected_sampling):\\n            event += 1\\n            loc_start = i\\n            loc_end = i+cnt-1\\n            location_begin = index[i]\\n            location_end = index[loc_end]\\n            #params = (patient_id, week, night_id, recorder, event, location_begin, location_end, i, loc_end)\\n            #print(params)\\n            #query = \"INSERT INTO predicted_labels (patient_id, week, night_id, recorder, label_id, location_begin, location_end, start_index, end_index) VALUES (?, ?, ?, ?, ?, ?, ?, ?, ?)\"\\n            #cur.execute(query, params)\\n\\n            predicted_labels[event] = {\\'location_begin\\': location_begin, \\'location_end\\': location_end, \\'start_index\\': i, \\'end_index\\': loc_end}\\n            \\n            cycle = np.floor(location_begin / 90 / 60 / original_sampling)\\n            #params = (patient_id, week, night_id, cycle)\\n            #query = \"SELECT count,type from week_summary WHERE (patient_id=? AND week=? AND night_id=? AND cycle=?)\"\\n            #cur.execute(query, params)\\n            #count = cur.fetchall()\\n\\n            if count:\\n                # print(count[0][0])\\n                if cycle < cycle_num/2:\\n                    type_ind = 0\\n                else:\\n                    type_ind = count[0][1] + 1\\n                params = (count[0][0]+1, type_ind, patient_id, week, night_id, cycle)\\n                query = \"UPDATE week_summary SET count = ?, type = ? WHERE (patient_id=? AND week=? AND night_id=? AND cycle=?)\"\\n                cur.execute(query, params)\\n            else:\\n                if cycle < cycle_num/2:\\n                    type_ind = 0\\n                else:\\n                    type_ind = 1\\n                params = (patient_id, week, night_id, cycle, cycle_num, 1, type_ind)\\n                query = \"INSERT INTO week_summary (patient_id, week, night_id, cycle, max_cycle, count, type) VALUES (?, ?, ?, ?, ?, ?, ?)\"\\n                cur.execute(query, params)\\n            print(\"current end idx:\", location_end)\\n            \\n        elif(y_p_mix[-1] == 10):\\n            loc_end += cnt-1\\n            #params = (index[loc_end], loc_end, patient_id, week, night_id, recorder, event)\\n            #query = \"UPDATE predicted_labels SET location_end = ?, end_index = ? WHERE (patient_id=? AND week=? AND night_id=? AND recorder=? AND label_id=?)\"\\n            #cur.execute(query, params)\\n            predicted_labels[event].update({\\'location_end\\': index[loc_end], \\'end_index\\': loc_end})\\n            print(\"update end:\", loc_end)\\n            print(\"update end idx:\", index[loc_end])\\n        y_p_mix.extend([10]*cnt);\\n    else:\\n        loc_start = 0\\n        y_p_mix.extend([0]*cnt);\\n    i += cnt;\\n    # print(i)\\n# print(event)\\n#params = (patient_id, week, night_id, recorder)\\n#query = \"SELECT DISTINCT * from predicted_labels WHERE (patient_id=? AND week=? AND night_id=? AND recorder=?)\"\\n#labels = cur.execute(query, params).fetchall()\\n#return labels\\n'"
            ]
          },
          "execution_count": 36,
          "metadata": {},
          "output_type": "execute_result"
        }
      ],
      "source": [
        "\"\"\"\n",
        "# Perform prediction on selected labels\n",
        "x = df_resampled[:,:2].clone()\n",
        "x_p = np.array(x.rows())\n",
        "y_p = model.predict(x_p)\n",
        "\n",
        "\n",
        "y_p_mix = []\n",
        "i = 0\n",
        "event = 0\n",
        "loc_start = 0\n",
        "loc_end = 0\n",
        "\n",
        "predicted_labels = {}\n",
        "\n",
        "while i < len(y_p):\n",
        "    y_sum = y_p[i];\n",
        "    cnt = 1;\n",
        "    for j in range(1, 5*selected_sampling+1):\n",
        "        if(i+j >= len(y_p) or ((index[i+j] - index[i])>5*original_sampling)):\n",
        "            # print(\"dur:\", cnt/selected_sampling)\n",
        "            break;\n",
        "        y_sum += y_p[i+j];\n",
        "        cnt += 1;\n",
        "    if y_sum/cnt >= 0.6:\n",
        "        if(loc_start == 0 or loc_end-loc_start > 55*selected_sampling):\n",
        "            event += 1\n",
        "            loc_start = i\n",
        "            loc_end = i+cnt-1\n",
        "            location_begin = index[i]\n",
        "            location_end = index[loc_end]\n",
        "            #params = (patient_id, week, night_id, recorder, event, location_begin, location_end, i, loc_end)\n",
        "            #print(params)\n",
        "            #query = \"INSERT INTO predicted_labels (patient_id, week, night_id, recorder, label_id, location_begin, location_end, start_index, end_index) VALUES (?, ?, ?, ?, ?, ?, ?, ?, ?)\"\n",
        "            #cur.execute(query, params)\n",
        "\n",
        "            predicted_labels[event] = {'location_begin': location_begin, 'location_end': location_end, 'start_index': i, 'end_index': loc_end}\n",
        "\n",
        "            cycle = np.floor(location_begin / 90 / 60 / original_sampling)\n",
        "            #params = (patient_id, week, night_id, cycle)\n",
        "            #query = \"SELECT count,type from week_summary WHERE (patient_id=? AND week=? AND night_id=? AND cycle=?)\"\n",
        "            #cur.execute(query, params)\n",
        "            #count = cur.fetchall()\n",
        "\n",
        "            if count:\n",
        "                # print(count[0][0])\n",
        "                if cycle < cycle_num/2:\n",
        "                    type_ind = 0\n",
        "                else:\n",
        "                    type_ind = count[0][1] + 1\n",
        "                params = (count[0][0]+1, type_ind, patient_id, week, night_id, cycle)\n",
        "                query = \"UPDATE week_summary SET count = ?, type = ? WHERE (patient_id=? AND week=? AND night_id=? AND cycle=?)\"\n",
        "                cur.execute(query, params)\n",
        "            else:\n",
        "                if cycle < cycle_num/2:\n",
        "                    type_ind = 0\n",
        "                else:\n",
        "                    type_ind = 1\n",
        "                params = (patient_id, week, night_id, cycle, cycle_num, 1, type_ind)\n",
        "                query = \"INSERT INTO week_summary (patient_id, week, night_id, cycle, max_cycle, count, type) VALUES (?, ?, ?, ?, ?, ?, ?)\"\n",
        "                cur.execute(query, params)\n",
        "            print(\"current end idx:\", location_end)\n",
        "\n",
        "        elif(y_p_mix[-1] == 10):\n",
        "            loc_end += cnt-1\n",
        "            #params = (index[loc_end], loc_end, patient_id, week, night_id, recorder, event)\n",
        "            #query = \"UPDATE predicted_labels SET location_end = ?, end_index = ? WHERE (patient_id=? AND week=? AND night_id=? AND recorder=? AND label_id=?)\"\n",
        "            #cur.execute(query, params)\n",
        "            predicted_labels[event].update({'location_end': index[loc_end], 'end_index': loc_end})\n",
        "            print(\"update end:\", loc_end)\n",
        "            print(\"update end idx:\", index[loc_end])\n",
        "        y_p_mix.extend([10]*cnt);\n",
        "    else:\n",
        "        loc_start = 0\n",
        "        y_p_mix.extend([0]*cnt);\n",
        "    i += cnt;\n",
        "    # print(i)\n",
        "# print(event)\n",
        "#params = (patient_id, week, night_id, recorder)\n",
        "#query = \"SELECT DISTINCT * from predicted_labels WHERE (patient_id=? AND week=? AND night_id=? AND recorder=?)\"\n",
        "#labels = cur.execute(query, params).fetchall()\n",
        "#return labels\n",
        "\"\"\"\n"
      ]
    }
  ],
  "metadata": {
    "colab": {
      "provenance": []
    },
    "kernelspec": {
      "display_name": "Python 3",
      "name": "python3"
    },
    "language_info": {
      "name": "python"
    }
  },
  "nbformat": 4,
  "nbformat_minor": 0
}
