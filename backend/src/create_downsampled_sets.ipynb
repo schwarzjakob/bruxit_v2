{
 "cells": [
  {
   "cell_type": "code",
   "execution_count": 2,
   "metadata": {},
   "outputs": [],
   "source": [
    "import numpy as np\n",
    "import pandas as pd \n",
    "import matplotlib.pyplot as plt\n",
    "import neurokit2 as nk\n",
    "from datetime import datetime\n",
    "import pandas as pd"
   ]
  },
  {
   "cell_type": "code",
   "execution_count": 3,
   "metadata": {},
   "outputs": [],
   "source": [
    "data = pd.read_csv('C:/Users/eleon/Desktop/SDAP/backend/src/data/p1_wk1/1022102cFnorm.csv', usecols=['MR', 'ML', 'ECG'])\n",
    "loc = pd.read_csv('C:/Users/eleon/Desktop/SDAP/backend/src/data/p1_wk1/1022102clocation_Bites.csv')"
   ]
  },
  {
   "cell_type": "code",
   "execution_count": 4,
   "metadata": {},
   "outputs": [],
   "source": [
    "data_5_min = data[:600000]"
   ]
  },
  {
   "cell_type": "code",
   "execution_count": 5,
   "metadata": {},
   "outputs": [
    {
     "data": {
      "text/html": [
       "<div>\n",
       "<style scoped>\n",
       "    .dataframe tbody tr th:only-of-type {\n",
       "        vertical-align: middle;\n",
       "    }\n",
       "\n",
       "    .dataframe tbody tr th {\n",
       "        vertical-align: top;\n",
       "    }\n",
       "\n",
       "    .dataframe thead th {\n",
       "        text-align: right;\n",
       "    }\n",
       "</style>\n",
       "<table border=\"1\" class=\"dataframe\">\n",
       "  <thead>\n",
       "    <tr style=\"text-align: right;\">\n",
       "      <th></th>\n",
       "      <th>MR</th>\n",
       "      <th>ML</th>\n",
       "      <th>ECG</th>\n",
       "    </tr>\n",
       "  </thead>\n",
       "  <tbody>\n",
       "    <tr>\n",
       "      <th>0</th>\n",
       "      <td>0.060487</td>\n",
       "      <td>-0.016969</td>\n",
       "      <td>0.234100</td>\n",
       "    </tr>\n",
       "    <tr>\n",
       "      <th>1</th>\n",
       "      <td>0.658350</td>\n",
       "      <td>-0.184600</td>\n",
       "      <td>0.234080</td>\n",
       "    </tr>\n",
       "    <tr>\n",
       "      <th>2</th>\n",
       "      <td>3.215500</td>\n",
       "      <td>-0.900960</td>\n",
       "      <td>0.234100</td>\n",
       "    </tr>\n",
       "    <tr>\n",
       "      <th>3</th>\n",
       "      <td>9.209700</td>\n",
       "      <td>-2.577700</td>\n",
       "      <td>0.234110</td>\n",
       "    </tr>\n",
       "    <tr>\n",
       "      <th>4</th>\n",
       "      <td>16.877000</td>\n",
       "      <td>-4.715300</td>\n",
       "      <td>0.234090</td>\n",
       "    </tr>\n",
       "    <tr>\n",
       "      <th>...</th>\n",
       "      <td>...</td>\n",
       "      <td>...</td>\n",
       "      <td>...</td>\n",
       "    </tr>\n",
       "    <tr>\n",
       "      <th>599995</th>\n",
       "      <td>0.000559</td>\n",
       "      <td>-0.013620</td>\n",
       "      <td>0.000705</td>\n",
       "    </tr>\n",
       "    <tr>\n",
       "      <th>599996</th>\n",
       "      <td>-0.000154</td>\n",
       "      <td>-0.002426</td>\n",
       "      <td>0.000699</td>\n",
       "    </tr>\n",
       "    <tr>\n",
       "      <th>599997</th>\n",
       "      <td>0.006617</td>\n",
       "      <td>0.005797</td>\n",
       "      <td>0.000696</td>\n",
       "    </tr>\n",
       "    <tr>\n",
       "      <th>599998</th>\n",
       "      <td>0.009843</td>\n",
       "      <td>-0.000941</td>\n",
       "      <td>0.000694</td>\n",
       "    </tr>\n",
       "    <tr>\n",
       "      <th>599999</th>\n",
       "      <td>0.006755</td>\n",
       "      <td>-0.012631</td>\n",
       "      <td>0.000705</td>\n",
       "    </tr>\n",
       "  </tbody>\n",
       "</table>\n",
       "<p>600000 rows × 3 columns</p>\n",
       "</div>"
      ],
      "text/plain": [
       "               MR        ML       ECG\n",
       "0        0.060487 -0.016969  0.234100\n",
       "1        0.658350 -0.184600  0.234080\n",
       "2        3.215500 -0.900960  0.234100\n",
       "3        9.209700 -2.577700  0.234110\n",
       "4       16.877000 -4.715300  0.234090\n",
       "...           ...       ...       ...\n",
       "599995   0.000559 -0.013620  0.000705\n",
       "599996  -0.000154 -0.002426  0.000699\n",
       "599997   0.006617  0.005797  0.000696\n",
       "599998   0.009843 -0.000941  0.000694\n",
       "599999   0.006755 -0.012631  0.000705\n",
       "\n",
       "[600000 rows x 3 columns]"
      ]
     },
     "execution_count": 5,
     "metadata": {},
     "output_type": "execute_result"
    }
   ],
   "source": [
    "data_5_min"
   ]
  },
  {
   "cell_type": "markdown",
   "metadata": {},
   "source": [
    "# Rectified signal"
   ]
  },
  {
   "cell_type": "code",
   "execution_count": 6,
   "metadata": {},
   "outputs": [],
   "source": [
    "rectified_signals = np.abs(data_5_min)"
   ]
  },
  {
   "cell_type": "markdown",
   "metadata": {},
   "source": [
    "# RMS"
   ]
  },
  {
   "cell_type": "code",
   "execution_count": 7,
   "metadata": {},
   "outputs": [
    {
     "name": "stdout",
     "output_type": "stream",
     "text": [
      "Original signal length: 600000\n",
      "RMS signal length: 600000\n"
     ]
    }
   ],
   "source": [
    "# Define a window size (in number of samples)\n",
    "# 60-120 ms?\n",
    "window_size = int(0.070*2000)\n",
    "\n",
    "# Compute RMS with a rolling window\n",
    "rms = rectified_signals.rolling(window=window_size, min_periods=1).apply(lambda x: np.sqrt(np.mean(x**2)), raw=True)\n",
    "\n",
    "# Check the output size\n",
    "print(f\"Original signal length: {len(rectified_signals)}\")\n",
    "print(f\"RMS signal length: {len(rms)}\")"
   ]
  },
  {
   "cell_type": "code",
   "execution_count": 8,
   "metadata": {},
   "outputs": [
    {
     "data": {
      "text/html": [
       "<div>\n",
       "<style scoped>\n",
       "    .dataframe tbody tr th:only-of-type {\n",
       "        vertical-align: middle;\n",
       "    }\n",
       "\n",
       "    .dataframe tbody tr th {\n",
       "        vertical-align: top;\n",
       "    }\n",
       "\n",
       "    .dataframe thead th {\n",
       "        text-align: right;\n",
       "    }\n",
       "</style>\n",
       "<table border=\"1\" class=\"dataframe\">\n",
       "  <thead>\n",
       "    <tr style=\"text-align: right;\">\n",
       "      <th></th>\n",
       "      <th>MR</th>\n",
       "      <th>ML</th>\n",
       "      <th>ECG</th>\n",
       "    </tr>\n",
       "  </thead>\n",
       "  <tbody>\n",
       "    <tr>\n",
       "      <th>0</th>\n",
       "      <td>0.060487</td>\n",
       "      <td>0.016969</td>\n",
       "      <td>0.234100</td>\n",
       "    </tr>\n",
       "    <tr>\n",
       "      <th>1</th>\n",
       "      <td>0.467484</td>\n",
       "      <td>0.131082</td>\n",
       "      <td>0.234090</td>\n",
       "    </tr>\n",
       "    <tr>\n",
       "      <th>2</th>\n",
       "      <td>1.895303</td>\n",
       "      <td>0.531066</td>\n",
       "      <td>0.234093</td>\n",
       "    </tr>\n",
       "    <tr>\n",
       "      <th>3</th>\n",
       "      <td>4.888637</td>\n",
       "      <td>1.368451</td>\n",
       "      <td>0.234098</td>\n",
       "    </tr>\n",
       "    <tr>\n",
       "      <th>4</th>\n",
       "      <td>8.722709</td>\n",
       "      <td>2.438224</td>\n",
       "      <td>0.234096</td>\n",
       "    </tr>\n",
       "    <tr>\n",
       "      <th>...</th>\n",
       "      <td>...</td>\n",
       "      <td>...</td>\n",
       "      <td>...</td>\n",
       "    </tr>\n",
       "    <tr>\n",
       "      <th>599995</th>\n",
       "      <td>0.028857</td>\n",
       "      <td>0.015691</td>\n",
       "      <td>0.000710</td>\n",
       "    </tr>\n",
       "    <tr>\n",
       "      <th>599996</th>\n",
       "      <td>0.028824</td>\n",
       "      <td>0.015638</td>\n",
       "      <td>0.000710</td>\n",
       "    </tr>\n",
       "    <tr>\n",
       "      <th>599997</th>\n",
       "      <td>0.028822</td>\n",
       "      <td>0.015505</td>\n",
       "      <td>0.000710</td>\n",
       "    </tr>\n",
       "    <tr>\n",
       "      <th>599998</th>\n",
       "      <td>0.028831</td>\n",
       "      <td>0.015255</td>\n",
       "      <td>0.000710</td>\n",
       "    </tr>\n",
       "    <tr>\n",
       "      <th>599999</th>\n",
       "      <td>0.028828</td>\n",
       "      <td>0.015083</td>\n",
       "      <td>0.000709</td>\n",
       "    </tr>\n",
       "  </tbody>\n",
       "</table>\n",
       "<p>600000 rows × 3 columns</p>\n",
       "</div>"
      ],
      "text/plain": [
       "              MR        ML       ECG\n",
       "0       0.060487  0.016969  0.234100\n",
       "1       0.467484  0.131082  0.234090\n",
       "2       1.895303  0.531066  0.234093\n",
       "3       4.888637  1.368451  0.234098\n",
       "4       8.722709  2.438224  0.234096\n",
       "...          ...       ...       ...\n",
       "599995  0.028857  0.015691  0.000710\n",
       "599996  0.028824  0.015638  0.000710\n",
       "599997  0.028822  0.015505  0.000710\n",
       "599998  0.028831  0.015255  0.000710\n",
       "599999  0.028828  0.015083  0.000709\n",
       "\n",
       "[600000 rows x 3 columns]"
      ]
     },
     "execution_count": 8,
     "metadata": {},
     "output_type": "execute_result"
    }
   ],
   "source": [
    "rms"
   ]
  },
  {
   "cell_type": "markdown",
   "metadata": {},
   "source": [
    "# FIND MVC (Maximum Volontary Contraction)"
   ]
  },
  {
   "cell_type": "code",
   "execution_count": 9,
   "metadata": {},
   "outputs": [
    {
     "name": "stdout",
     "output_type": "stream",
     "text": [
      "0.9604318320957134\n",
      "1.4121848163703676\n",
      "1.0498430017794986\n",
      "1.6142088837512722\n",
      "0.6841394044142702\n",
      "1.6648890864077919\n"
     ]
    },
    {
     "name": "stderr",
     "output_type": "stream",
     "text": [
      "C:\\Users\\eleon\\AppData\\Local\\Temp\\ipykernel_23956\\2061933194.py:5: FutureWarning: Series.__getitem__ treating keys as positions is deprecated. In a future version, integer keys will always be treated as labels (consistent with DataFrame behavior). To access a value by position, use `ser.iloc[pos]`\n",
      "  begin_contraction, end_contraction = int(row[0]), int(row[1])\n"
     ]
    }
   ],
   "source": [
    "# Define Maximum Volontary Contraction\n",
    "mvc_MR = 0\n",
    "mvc_ML = 0\n",
    "for index, row in loc.iterrows():\n",
    "    begin_contraction, end_contraction = int(row[0]), int(row[1])\n",
    "\n",
    "\n",
    "    bite_data = rms[begin_contraction:end_contraction]\n",
    "\n",
    "    max_in_bite_MR = bite_data['MR'].max()\n",
    "    max_in_bite_ML = bite_data['ML'].max()\n",
    "\n",
    "    print(max_in_bite_MR)\n",
    "    print(max_in_bite_ML)\n",
    "\n",
    "\n",
    "    # TODO: check if average of ML and MR max row is okay\n",
    "    # max_in_bite_avg = (max_in_bite['MR'][0] + max_in_bite['ML'][0]) / 2\n",
    "\n",
    "    if float(max_in_bite_MR) > float(mvc_MR):\n",
    "        mvc_MR = max_in_bite_MR\n",
    "\n",
    "    if float(max_in_bite_ML) > float(mvc_ML):\n",
    "        mvc_ML = max_in_bite_ML\n",
    "    "
   ]
  },
  {
   "cell_type": "code",
   "execution_count": 10,
   "metadata": {},
   "outputs": [
    {
     "data": {
      "text/plain": [
       "(1.0498430017794986, 1.6648890864077919)"
      ]
     },
     "execution_count": 10,
     "metadata": {},
     "output_type": "execute_result"
    }
   ],
   "source": [
    "mvc_MR, mvc_ML"
   ]
  },
  {
   "cell_type": "markdown",
   "metadata": {},
   "source": [
    "# DOWNSAMPLING"
   ]
  },
  {
   "cell_type": "code",
   "execution_count": 11,
   "metadata": {},
   "outputs": [],
   "source": [
    "data_MR_5_min_resampled = nk.signal_resample(rms['MR'], sampling_rate=2000, desired_sampling_rate=256, method=\"interpolation\")\n",
    "data_ML_5_min_resampled = nk.signal_resample(rms['ML'], sampling_rate=2000, desired_sampling_rate=256, method=\"interpolation\")\n",
    "data_ECG_5_min_resampled = nk.signal_resample(rms['ECG'], sampling_rate=2000, desired_sampling_rate=256, method=\"interpolation\")"
   ]
  },
  {
   "cell_type": "code",
   "execution_count": 21,
   "metadata": {},
   "outputs": [
    {
     "data": {
      "text/plain": [
       "76800"
      ]
     },
     "execution_count": 21,
     "metadata": {},
     "output_type": "execute_result"
    }
   ],
   "source": [
    "len(data_MR_5_min_resampled)"
   ]
  },
  {
   "cell_type": "code",
   "execution_count": 12,
   "metadata": {},
   "outputs": [
    {
     "data": {
      "text/plain": [
       "array([0.2341    , 0.23409428, 0.23409278, ..., 0.00070296, 0.00070851,\n",
       "       0.00070941])"
      ]
     },
     "execution_count": 12,
     "metadata": {},
     "output_type": "execute_result"
    }
   ],
   "source": [
    "data_ECG_5_min_resampled"
   ]
  },
  {
   "cell_type": "code",
   "execution_count": 14,
   "metadata": {},
   "outputs": [],
   "source": [
    "signals, info = nk.ecg_process(data_ECG_5_min_resampled, sampling_rate=256)"
   ]
  },
  {
   "cell_type": "code",
   "execution_count": 17,
   "metadata": {},
   "outputs": [
    {
     "data": {
      "text/plain": [
       "70.19944552273927"
      ]
     },
     "execution_count": 17,
     "metadata": {},
     "output_type": "execute_result"
    }
   ],
   "source": [
    "rate = signals[\"ECG_Rate\"]"
   ]
  },
  {
   "cell_type": "code",
   "execution_count": 19,
   "metadata": {},
   "outputs": [],
   "source": [
    "data_5_min_resampled = pd.DataFrame(data={'MR': data_MR_5_min_resampled, 'ML': data_ML_5_min_resampled, 'ECG': data_ECG_5_min_resampled})"
   ]
  },
  {
   "cell_type": "code",
   "execution_count": 20,
   "metadata": {},
   "outputs": [
    {
     "data": {
      "text/html": [
       "<div>\n",
       "<style scoped>\n",
       "    .dataframe tbody tr th:only-of-type {\n",
       "        vertical-align: middle;\n",
       "    }\n",
       "\n",
       "    .dataframe tbody tr th {\n",
       "        vertical-align: top;\n",
       "    }\n",
       "\n",
       "    .dataframe thead th {\n",
       "        text-align: right;\n",
       "    }\n",
       "</style>\n",
       "<table border=\"1\" class=\"dataframe\">\n",
       "  <thead>\n",
       "    <tr style=\"text-align: right;\">\n",
       "      <th></th>\n",
       "      <th>MR</th>\n",
       "      <th>ML</th>\n",
       "      <th>ECG</th>\n",
       "    </tr>\n",
       "  </thead>\n",
       "  <tbody>\n",
       "    <tr>\n",
       "      <th>0</th>\n",
       "      <td>0.060487</td>\n",
       "      <td>0.016969</td>\n",
       "      <td>0.234100</td>\n",
       "    </tr>\n",
       "    <tr>\n",
       "      <th>1</th>\n",
       "      <td>10.806310</td>\n",
       "      <td>3.006534</td>\n",
       "      <td>0.234094</td>\n",
       "    </tr>\n",
       "    <tr>\n",
       "      <th>2</th>\n",
       "      <td>8.628713</td>\n",
       "      <td>2.395300</td>\n",
       "      <td>0.234093</td>\n",
       "    </tr>\n",
       "    <tr>\n",
       "      <th>3</th>\n",
       "      <td>8.865398</td>\n",
       "      <td>2.489589</td>\n",
       "      <td>0.234067</td>\n",
       "    </tr>\n",
       "    <tr>\n",
       "      <th>4</th>\n",
       "      <td>8.552050</td>\n",
       "      <td>2.407505</td>\n",
       "      <td>0.234041</td>\n",
       "    </tr>\n",
       "    <tr>\n",
       "      <th>...</th>\n",
       "      <td>...</td>\n",
       "      <td>...</td>\n",
       "      <td>...</td>\n",
       "    </tr>\n",
       "    <tr>\n",
       "      <th>76795</th>\n",
       "      <td>0.028353</td>\n",
       "      <td>0.017080</td>\n",
       "      <td>0.000708</td>\n",
       "    </tr>\n",
       "    <tr>\n",
       "      <th>76796</th>\n",
       "      <td>0.028061</td>\n",
       "      <td>0.016840</td>\n",
       "      <td>0.000705</td>\n",
       "    </tr>\n",
       "    <tr>\n",
       "      <th>76797</th>\n",
       "      <td>0.028103</td>\n",
       "      <td>0.016733</td>\n",
       "      <td>0.000703</td>\n",
       "    </tr>\n",
       "    <tr>\n",
       "      <th>76798</th>\n",
       "      <td>0.028696</td>\n",
       "      <td>0.016020</td>\n",
       "      <td>0.000709</td>\n",
       "    </tr>\n",
       "    <tr>\n",
       "      <th>76799</th>\n",
       "      <td>0.028828</td>\n",
       "      <td>0.015083</td>\n",
       "      <td>0.000709</td>\n",
       "    </tr>\n",
       "  </tbody>\n",
       "</table>\n",
       "<p>76800 rows × 3 columns</p>\n",
       "</div>"
      ],
      "text/plain": [
       "              MR        ML       ECG\n",
       "0       0.060487  0.016969  0.234100\n",
       "1      10.806310  3.006534  0.234094\n",
       "2       8.628713  2.395300  0.234093\n",
       "3       8.865398  2.489589  0.234067\n",
       "4       8.552050  2.407505  0.234041\n",
       "...          ...       ...       ...\n",
       "76795   0.028353  0.017080  0.000708\n",
       "76796   0.028061  0.016840  0.000705\n",
       "76797   0.028103  0.016733  0.000703\n",
       "76798   0.028696  0.016020  0.000709\n",
       "76799   0.028828  0.015083  0.000709\n",
       "\n",
       "[76800 rows x 3 columns]"
      ]
     },
     "execution_count": 20,
     "metadata": {},
     "output_type": "execute_result"
    }
   ],
   "source": [
    "data_5_min_resampled"
   ]
  },
  {
   "cell_type": "code",
   "execution_count": 23,
   "metadata": {},
   "outputs": [],
   "source": [
    "data_5_min_resampled.to_csv('../../frontend/src/assets/1022102cFnorm_rms_5_min_256Hz.csv', )"
   ]
  }
 ],
 "metadata": {
  "kernelspec": {
   "display_name": "Python 3",
   "language": "python",
   "name": "python3"
  },
  "language_info": {
   "codemirror_mode": {
    "name": "ipython",
    "version": 3
   },
   "file_extension": ".py",
   "mimetype": "text/x-python",
   "name": "python",
   "nbconvert_exporter": "python",
   "pygments_lexer": "ipython3",
   "version": "3.11.4"
  }
 },
 "nbformat": 4,
 "nbformat_minor": 2
}
